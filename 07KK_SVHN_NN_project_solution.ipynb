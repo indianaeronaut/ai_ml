{
  "cells": [
    {
      "cell_type": "markdown",
      "metadata": {
        "id": "ZEm3gVsvEv8G"
      },
      "source": [
        "# Project: Neural Network & Deep Learning (Image Classification)\n",
        "### By: Krishna Kant Kaushal\n",
        "### Python version used: Python 3.7.13"
      ]
    },
    {
      "cell_type": "markdown",
      "metadata": {
        "id": "oYgptP7uDmxk"
      },
      "source": [
        "### ⌘ Data Description:\n",
        "\n",
        "    Recognizing multi-digit numbers in photographs captured at street level is an important component of\n",
        "    modern-day map making. A classic example of a corpus of such street level photographs is Google’s\n",
        "    Street View imagery comprised of hundreds of millions of geo-located 360 degree panoramic images. \n",
        "    The ability to automatically transcribe an address number from a geo-located patch of pixels and \n",
        "    associate the transcribed number with a known street address helps pinpoint, with a high degree of\n",
        "    accuracy, the location of the building it represents.\n",
        "    \n",
        "    More broadly, recognizing numbers in photographs is a problem of interest to the optical character \n",
        "    recognition community. While OCR on constrained domains like document processing is well studied,\n",
        "    arbitrary multi-character text recognition in photographs is still highly challenging. This difficulty\n",
        "    arises due to the wide variability in the visual appearance of text in the wild on account of a large\n",
        "    range of fonts, colors, styles, orientations, and character arrangements. The recognition problem\n",
        "    is further complicated by environmental factors such as lighting, shadows, specularities, and occlusions\n",
        "    as well as by image acquisition factors such as resolution, motion, and focus blurs.\n",
        "    \n",
        "    In this project we will use dataset with images centred around a single digit (many of the images\n",
        "    do contain some distractors at the sides). Although we are taking a sample of the data which is \n",
        "    simpler, it is more complex than MNIST because of the distractors."
      ]
    },
    {
      "cell_type": "markdown",
      "metadata": {
        "id": "2DImj5RUDmxl"
      },
      "source": [
        "### ⌘ The Street View House Numbers (SVHN) Dataset:\n",
        "    \n",
        "    SVHN is a real-world image dataset for developing machine learning and object recognition algorithms with\n",
        "    minimal requirement on data formatting but comes from a significantly harder, unsolved, real world problem\n",
        "    (recognizing digits and numbers in natural scene images). SVHN is obtained from house numbers in Google\n",
        "    Street View images."
      ]
    },
    {
      "cell_type": "markdown",
      "metadata": {
        "id": "L1yt231QDmxr"
      },
      "source": [
        "### ⌘ Objective:\n",
        "    \n",
        "    The objective of the project is to learn how to implement a simple image classification pipeline based\n",
        "    on a deep neural network."
      ]
    },
    {
      "cell_type": "markdown",
      "metadata": {
        "id": "sXQeJltQDmxs"
      },
      "source": [
        "### ⌘ Steps and tasks:\n",
        "\n",
        "    Understand the basic Image Classification pipeline and the data-driven approach (train/predict stages)\n",
        "    1. Data fetching and understand the train/val/test splits.\n",
        "    2. Implement and apply a deep neural network classifier including (feedforward neural network, RELU,\n",
        "    activations) \n",
        "    3. Understand and be able to implement (vectorized) backpropagation (cost stochastic gradient descent,\n",
        "    cross entropy loss, cost functions)\n",
        "    4. Implement batch normalization for training the neural network\n",
        "    5. Print the classification accuracy metrics"
      ]
    },
    {
      "cell_type": "markdown",
      "metadata": {
        "id": "b938i272Dmxu"
      },
      "source": [
        "### 🥏Import the necessary libraries"
      ]
    },
    {
      "cell_type": "code",
      "execution_count": null,
      "metadata": {
        "id": "_Uy5NE9oDmxz"
      },
      "outputs": [],
      "source": [
        "# for arrays and matrices\n",
        "import numpy as np\n",
        "\n",
        "# For importing data in .h5 format\n",
        "import h5py\n",
        "\n",
        "# For displaying numbers\n",
        "import matplotlib\n",
        "import matplotlib.pyplot as plt\n",
        "import tensorflow as tf\n",
        "\n",
        "# For creating neural network layers\n",
        "from tensorflow.keras.layers import BatchNormalization\n",
        "from tensorflow.keras.layers import Dense"
      ]
    },
    {
      "cell_type": "markdown",
      "metadata": {
        "id": "RMPgl_4qB29a"
      },
      "source": [
        "#### Fix random seed for reproducibility"
      ]
    },
    {
      "cell_type": "code",
      "execution_count": null,
      "metadata": {
        "id": "-tK6bcMGB9Fj"
      },
      "outputs": [],
      "source": [
        "seed = 1\n",
        "np.random.seed(seed)"
      ]
    },
    {
      "cell_type": "markdown",
      "metadata": {
        "id": "8wxGYcz939zy"
      },
      "source": [
        "### 🥏 Loading data from h5 file"
      ]
    },
    {
      "cell_type": "code",
      "execution_count": null,
      "metadata": {
        "colab": {
          "base_uri": "https://localhost:8080/"
        },
        "id": "JpaibveA4MFG",
        "outputId": "574c6a1a-7e5f-44b0-f7fd-ff69f73b0fd7"
      },
      "outputs": [
        {
          "output_type": "stream",
          "name": "stdout",
          "text": [
            "Mounted at /content/gdrive\n"
          ]
        }
      ],
      "source": [
        "from google.colab import drive\n",
        "drive.mount('/content/gdrive')"
      ]
    },
    {
      "cell_type": "code",
      "execution_count": null,
      "metadata": {
        "id": "J454vc9C4YhL"
      },
      "outputs": [],
      "source": [
        "fileloc = '/content/gdrive/My Drive/Colab Notebooks/data/SVHN_single_grey1.h5'"
      ]
    },
    {
      "cell_type": "code",
      "execution_count": null,
      "metadata": {
        "id": "ssvB0b96HlqG"
      },
      "outputs": [],
      "source": []
    },
    {
      "cell_type": "code",
      "execution_count": null,
      "metadata": {
        "colab": {
          "base_uri": "https://localhost:8080/"
        },
        "id": "O43K0SOe39zz",
        "outputId": "42149936-8183-4678-dc06-ad3db411d099",
        "scrolled": true
      },
      "outputs": [
        {
          "output_type": "stream",
          "name": "stdout",
          "text": [
            "Datasets are:  ['X_test', 'X_train', 'X_val', 'y_test', 'y_train', 'y_val']\n"
          ]
        }
      ],
      "source": [
        "# Open the file\n",
        "digits = h5py.File(fileloc,\"r\")\n",
        "\n",
        "ls = list(digits.keys())\n",
        "print(\"Datasets are: \",ls)"
      ]
    },
    {
      "cell_type": "markdown",
      "metadata": {
        "id": "3sp2Cvha39zz"
      },
      "source": [
        "Getting train, validation and test splits:"
      ]
    },
    {
      "cell_type": "code",
      "execution_count": null,
      "metadata": {
        "colab": {
          "base_uri": "https://localhost:8080/"
        },
        "id": "SOGyYCrU39zz",
        "outputId": "f311d5f7-8449-4a14-a1bf-c461cfc303c4"
      },
      "outputs": [
        {
          "name": "stdout",
          "output_type": "stream",
          "text": [
            "Test set features shape:\n",
            " (18000, 32, 32)\n",
            "\n",
            "Test set target shape:\n",
            " (18000,)\n"
          ]
        }
      ],
      "source": [
        "# Test set of data\n",
        "X_test = np.array(digits.get(\"X_test\"))\n",
        "print(\"Test set features shape:\\n\",X_test.shape)\n",
        "\n",
        "y_test = np.array(digits.get(\"y_test\"))\n",
        "print(\"\\nTest set target shape:\\n\",y_test.shape)"
      ]
    },
    {
      "cell_type": "code",
      "execution_count": null,
      "metadata": {
        "colab": {
          "base_uri": "https://localhost:8080/"
        },
        "id": "de50G1SZ39z0",
        "outputId": "23d3e853-5ecb-4b33-c25b-88fec6978db7"
      },
      "outputs": [
        {
          "name": "stdout",
          "output_type": "stream",
          "text": [
            "\n",
            "Train set features shape:\n",
            " (42000, 32, 32)\n",
            "\n",
            "Train set target shape:\n",
            " (42000,)\n"
          ]
        }
      ],
      "source": [
        "# Train set of data\n",
        "X_train = np.array(digits.get(\"X_train\"))\n",
        "print(\"\\nTrain set features shape:\\n\",X_train.shape)\n",
        "\n",
        "y_train = np.array(digits.get(\"y_train\"))\n",
        "print(\"\\nTrain set target shape:\\n\",y_train.shape)"
      ]
    },
    {
      "cell_type": "code",
      "execution_count": null,
      "metadata": {
        "colab": {
          "base_uri": "https://localhost:8080/"
        },
        "id": "ffRO-9JL39z0",
        "outputId": "e4acd12f-743e-4321-e7b9-26df2d589f84"
      },
      "outputs": [
        {
          "name": "stdout",
          "output_type": "stream",
          "text": [
            "\n",
            "Validation set features shape:\n",
            " (60000, 32, 32)\n",
            "\n",
            "Validation set target shape:\n",
            " (60000,)\n"
          ]
        }
      ],
      "source": [
        "# Validation set of data\n",
        "X_val = np.array(digits.get(\"X_val\"))\n",
        "print(\"\\nValidation set features shape:\\n\",X_val.shape)\n",
        "\n",
        "y_val = np.array(digits.get(\"y_val\"))\n",
        "print(\"\\nValidation set target shape:\\n\",y_val.shape)\n",
        "\n",
        "# Close this file\n",
        "digits.close()"
      ]
    },
    {
      "cell_type": "markdown",
      "metadata": {
        "id": "DURbAjl839z0"
      },
      "source": [
        "### 🥏 Flatten the images for Keras"
      ]
    },
    {
      "cell_type": "code",
      "execution_count": null,
      "metadata": {
        "colab": {
          "base_uri": "https://localhost:8080/"
        },
        "id": "5ZQE3Qjg39z1",
        "outputId": "5a4032db-7fdd-4030-d0b2-1b68b4b8cdfa"
      },
      "outputs": [
        {
          "name": "stdout",
          "output_type": "stream",
          "text": [
            "\n",
            "Test set features shape after flattening the features values:\n",
            " (18000, 1024)\n",
            "\n",
            "Train set features shape after flattening the features values:\n",
            " (42000, 1024)\n",
            "\n",
            "Validation set features shape after flattening the features values:\n",
            " (60000, 1024)\n"
          ]
        }
      ],
      "source": [
        "X_test = X_test.reshape(18000,1024)\n",
        "print(\"\\nTest set features shape after flattening the features values:\\n\",X_test.shape)\n",
        "\n",
        "X_train = X_train.reshape(42000,1024)\n",
        "print(\"\\nTrain set features shape after flattening the features values:\\n\",X_train.shape)\n",
        "\n",
        "X_val = X_val.reshape(60000,1024)\n",
        "print(\"\\nValidation set features shape after flattening the features values:\\n\",X_val.shape)"
      ]
    },
    {
      "cell_type": "markdown",
      "metadata": {
        "id": "vS8ZwE_539z1"
      },
      "source": [
        "### 🥏 Normalize the inputs for X_train, X_test and X_val"
      ]
    },
    {
      "cell_type": "code",
      "execution_count": null,
      "metadata": {
        "id": "oyHJeirn39z1"
      },
      "outputs": [],
      "source": [
        "# # normalize inputs from 0-255 to 0-1\n",
        "X_test = X_test / 255.0\n",
        "X_train = X_train / 255.0\n",
        "X_val = X_val / 255.0"
      ]
    },
    {
      "cell_type": "markdown",
      "metadata": {
        "id": "ut4BDkO939z1"
      },
      "source": [
        "### 🥏 Convert the class matrices Y_train, Y_test and Y_val into one hot vectors"
      ]
    },
    {
      "cell_type": "code",
      "execution_count": null,
      "metadata": {
        "colab": {
          "base_uri": "https://localhost:8080/"
        },
        "id": "QD2n_ttc39z1",
        "outputId": "1f9558b4-f995-4e20-8e87-6b970cd6545f"
      },
      "outputs": [
        {
          "data": {
            "text/plain": [
              "(60000, 10)"
            ]
          },
          "execution_count": 11,
          "metadata": {},
          "output_type": "execute_result"
        }
      ],
      "source": [
        "num_classes = 10\n",
        "y_train = tf.keras.utils.to_categorical(y_train, num_classes=num_classes)\n",
        "y_test = tf.keras.utils.to_categorical(y_test, num_classes=num_classes)\n",
        "y_val = tf.keras.utils.to_categorical(y_val, num_classes=num_classes)\n",
        "y_val.shape"
      ]
    },
    {
      "cell_type": "markdown",
      "metadata": {
        "id": "QypQ50KW39z2"
      },
      "source": [
        "### 🥏 Print the train, test and val shapes"
      ]
    },
    {
      "cell_type": "code",
      "execution_count": null,
      "metadata": {
        "colab": {
          "base_uri": "https://localhost:8080/"
        },
        "id": "6kxxoUE539z2",
        "outputId": "b71653ec-7d08-4604-f8c1-f52c5e557d61"
      },
      "outputs": [
        {
          "name": "stdout",
          "output_type": "stream",
          "text": [
            "Test set features shape:\n",
            " (18000, 1024)\n",
            "\n",
            "Test set target shape:\n",
            " (18000, 10)\n",
            "\n",
            "Train set features shape:\n",
            " (42000, 1024)\n",
            "\n",
            "Train set target shape:\n",
            " (42000, 10)\n",
            "\n",
            "Validation set features shape:\n",
            " (60000, 1024)\n",
            "\n",
            "Validation set target shape:\n",
            " (60000, 10)\n"
          ]
        }
      ],
      "source": [
        "# Test set of data\n",
        "print(\"Test set features shape:\\n\",X_test.shape)\n",
        "print(\"\\nTest set target shape:\\n\",y_test.shape)\n",
        "\n",
        "# Train set of data\n",
        "print(\"\\nTrain set features shape:\\n\",X_train.shape)\n",
        "print(\"\\nTrain set target shape:\\n\",y_train.shape)\n",
        "\n",
        "# Validation set of data\n",
        "print(\"\\nValidation set features shape:\\n\",X_val.shape)\n",
        "print(\"\\nValidation set target shape:\\n\",y_val.shape)"
      ]
    },
    {
      "cell_type": "markdown",
      "metadata": {
        "id": "9f_naAZf39z2"
      },
      "source": [
        "### 🥏 Visualize the first 10 images in X_train and the corresponding Y_train labels"
      ]
    },
    {
      "cell_type": "code",
      "execution_count": null,
      "metadata": {
        "colab": {
          "base_uri": "https://localhost:8080/",
          "height": 114
        },
        "id": "3Xi63Uql39z2",
        "outputId": "765c7929-6a58-4d8b-98b8-627b0f1fed9c"
      },
      "outputs": [
        {
          "data": {
            "image/png": "[encoded data removed]",
            "text/plain": [
              "<Figure size 720x72 with 10 Axes>"
            ]
          },
          "metadata": {
            "needs_background": "light"
          },
          "output_type": "display_data"
        },
        {
          "name": "stdout",
          "output_type": "stream",
          "text": [
            "Label for each of the above images espectively:\n",
            " ['2', '6', '7', '4', '4', '0', '3', '0', '7', '3']\n"
          ]
        }
      ],
      "source": [
        "# visualizing the first 10 images in the dataset and their labels\n",
        "%matplotlib inline\n",
        "import matplotlib.pyplot as plt\n",
        "plt.figure(figsize=(10, 1))\n",
        "labels = []\n",
        "for i in range(10):\n",
        "    plt.subplot(1, 10, i+1)\n",
        "    plt.imshow(X_train[i].reshape(32, 32), cmap=\"gray\")\n",
        "    plt.axis(\"off\")\n",
        "    labels += str(np.argmax((y_train[i])))\n",
        "plt.show()\n",
        "print('Label for each of the above images espectively:\\n',labels)"
      ]
    },
    {
      "cell_type": "markdown",
      "metadata": {
        "id": "wyjpmU0N39z2"
      },
      "source": [
        "### 🥏 In the train and test loop, define the hyperparameters for the model"
      ]
    },
    {
      "cell_type": "markdown",
      "metadata": {
        "id": "d9joablNnx_M"
      },
      "source": [
        "Below combinations of hyper parameter values were tried to get the best accuracy.\n",
        "\n",
        "Changing Epoch value:\n",
        "\n",
        "learn_rate = 0.1, momentum = 0.8, epochs= 30, batch_size = 200\n",
        "> Accuracy: 91.61%\n",
        "------------------\n",
        "learn_rate = 0.1, momentum = 0.8, epochs= 20, batch_size = 200\n",
        "> Accuracy: 89.59%\n",
        "------------------\n",
        "learn_rate = 0.1, momentum = 0.8, epochs= 40, batch_size = 200\n",
        "> Accuracy: 92.81%\n",
        "------------------\n",
        "learn_rate = 0.1, momentum = 0.8, epochs= 50, batch_size = 200\n",
        "> Accuracy: 93.34%\n",
        "------------------\n",
        "\n",
        "\n",
        "Changing batch_size values:\n",
        "\n",
        "learn_rate = 0.1, momentum = 0.8, epochs = 30, batch_size = 50\n",
        "> Accuracy: 91.26%\n",
        "------------------\n",
        "learn_rate = 0.1, momentum = 0.8, epochs = 30, batch_size = 100\n",
        "> Accuracy: 91.91%\n",
        "------------------\n",
        "learn_rate = 0.1, momentum = 0.8, epochs = 30, batch_size = 200\n",
        "> Accuracy: 91.60%\n",
        "------------------\n",
        "learn_rate = 0.1, momentum = 0.8, epochs = 30, batch_size = 300\n",
        "> Accuracy: 85.08%\n",
        "------------------\n",
        "\n",
        "\n",
        "Changing learn_rate values:\n",
        "\n",
        "learn_rate = 0.01, momentum = 0.8, epochs = 50, batch_size = 100\n",
        "> Accuracy: 91.99%\n",
        "------------------\n",
        "learn_rate = 0.01, momentum = 0.8, epochs = 50, batch_size = 200\n",
        "> Accuracy: 88.73%\n",
        "------------------\n",
        "learn_rate = 0.2, momentum = 0.8, epochs = 50, batch_size = 100\n",
        "> Accuracy: 93.07%\n",
        "------------------\n",
        "learn_rate = 0.2, momentum = 0.8, epochs = 50, batch_size = 200\n",
        "> Accuracy: 93.34%\n",
        "------------------\n",
        "learn_rate = 0.005, momentum = 0.8, epochs = 50, batch_size = 200\n",
        "> Accuracy: 92.93%\n",
        "------------------\n",
        "\n",
        "Changing momentum values:\n",
        "\n",
        "learn_rate = 0.1, momentum = 0.8, epochs= 50, batch_size = 200\n",
        "> Accuracy: 93.34%\n",
        "------------------\n",
        "learn_rate = 0.1, momentum = 0.7, epochs= 50, batch_size = 200\n",
        "> Accuracy: 92.22%\n",
        "------------------\n",
        "learn_rate = 0.1, momentum = 0.9, epochs= 50, batch_size = 200\n",
        "> Accuracy: 93.45%\n",
        "------------------\n",
        "learn_rate = 0.1, momentum = 0.95, epochs= 50, batch_size = 200\n",
        "> Accuracy: 92.73%\n",
        "------------------\n",
        "learn_rate = 0.1, momentum = 0.85, epochs= 50, batch_size = 200\n",
        "> Accuracy: 93.71%\n",
        "This is the best hyperparameter set that gave the best accuracy."
      ]
    },
    {
      "cell_type": "code",
      "execution_count": null,
      "metadata": {
        "id": "SZJIxPei39z2"
      },
      "outputs": [],
      "source": [
        "learn_rate = 0.1\n",
        "epochs = 50\n",
        "decay_rate = learn_rate / epochs\n",
        "momentum = 0.85"
      ]
    },
    {
      "cell_type": "markdown",
      "metadata": {
        "id": "31fzD-Vy39z3"
      },
      "source": [
        "### 🥏 Define the optimizers to be used in this model"
      ]
    },
    {
      "cell_type": "code",
      "execution_count": null,
      "metadata": {
        "id": "K15YTvGn39z3"
      },
      "outputs": [],
      "source": [
        "def optimizerSGD():\n",
        "  sgd = tf.keras.optimizers.SGD(learning_rate = learn_rate, momentum=momentum, decay=decay_rate, nesterov=False)\n",
        "  return sgd\n",
        "\n",
        "optimizerSGD = optimizerSGD()"
      ]
    },
    {
      "cell_type": "code",
      "execution_count": null,
      "metadata": {
        "id": "3h9EMxsiBFEL"
      },
      "outputs": [],
      "source": [
        "def optimizerAdam():\n",
        "  adam = tf.keras.optimizers.Adam(learning_rate = 1e-3)\n",
        "  return adam\n",
        "\n",
        "optimizerAdam = optimizerAdam()"
      ]
    },
    {
      "cell_type": "markdown",
      "metadata": {
        "id": "jrcryrcA39z3"
      },
      "source": [
        "### 🥏 Create a Sequential model in Keras with input layer with the correct input shape, Hidden Layers, Output Layers and the activation functions"
      ]
    },
    {
      "cell_type": "code",
      "execution_count": null,
      "metadata": {
        "id": "UFS9qEMZFxon"
      },
      "outputs": [],
      "source": [
        "input_dim = X_train.shape[1]\n",
        "\n",
        "def seq_model(learn_rate, optimizerType):\n",
        "  lr_model = tf.keras.models.Sequential()\n",
        "\n",
        "  lr_model.add(BatchNormalization(input_shape = (input_dim,)))  ### Batch_Norm Layer\n",
        "  lr_model.add(Dense(256, kernel_initializer='uniform', activation=tf.nn.relu))\n",
        "  lr_model.add(Dense(64, kernel_initializer='uniform', activation=tf.nn.relu))\n",
        "  lr_model.add(Dense(64, kernel_initializer='uniform', activation=tf.nn.relu))\n",
        "  lr_model.add(Dense(32, kernel_initializer='uniform', activation=tf.nn.relu))\n",
        "  lr_model.add(Dense(num_classes, activation=tf.nn.softmax))\n",
        "  \n",
        "  # Compile the model\n",
        "  lr_model.compile(loss='categorical_crossentropy', optimizer=optimizerType, metrics=['acc']) ### Loss function = Categorical cross entropy\n",
        "  return lr_model"
      ]
    },
    {
      "cell_type": "code",
      "execution_count": null,
      "metadata": {
        "id": "9yFsk3XThrS7"
      },
      "outputs": [],
      "source": [
        "model = seq_model(learn_rate, optimizerSGD)"
      ]
    },
    {
      "cell_type": "code",
      "execution_count": null,
      "metadata": {
        "colab": {
          "base_uri": "https://localhost:8080/"
        },
        "id": "UwiegrG539z3",
        "outputId": "e5e41d87-b076-40e4-d413-376a1c412a47"
      },
      "outputs": [
        {
          "name": "stdout",
          "output_type": "stream",
          "text": [
            "Model: \"sequential\"\n",
            "_________________________________________________________________\n",
            " Layer (type)                Output Shape              Param #   \n",
            "=================================================================\n",
            " batch_normalization (BatchN  (None, 1024)             4096      \n",
            " ormalization)                                                   \n",
            "                                                                 \n",
            " dense (Dense)               (None, 256)               262400    \n",
            "                                                                 \n",
            " dense_1 (Dense)             (None, 64)                16448     \n",
            "                                                                 \n",
            " dense_2 (Dense)             (None, 64)                4160      \n",
            "                                                                 \n",
            " dense_3 (Dense)             (None, 32)                2080      \n",
            "                                                                 \n",
            " dense_4 (Dense)             (None, 10)                330       \n",
            "                                                                 \n",
            "=================================================================\n",
            "Total params: 289,514\n",
            "Trainable params: 287,466\n",
            "Non-trainable params: 2,048\n",
            "_________________________________________________________________\n"
          ]
        }
      ],
      "source": [
        "model.summary()"
      ]
    },
    {
      "cell_type": "markdown",
      "metadata": {
        "id": "BUBXsfuo39z4"
      },
      "source": [
        "### 🥏 Fitting the model"
      ]
    },
    {
      "cell_type": "code",
      "execution_count": null,
      "metadata": {
        "colab": {
          "base_uri": "https://localhost:8080/"
        },
        "id": "etqDnsk839z4",
        "outputId": "8987420c-7c01-4c79-b86a-bdb46f1adba5"
      },
      "outputs": [
        {
          "name": "stdout",
          "output_type": "stream",
          "text": [
            "Epoch 1/50\n",
            "210/210 [==============================] - 5s 22ms/step - loss: 2.2968 - acc: 0.1096 - val_loss: 2.2384 - val_acc: 0.1629\n",
            "Epoch 2/50\n",
            "210/210 [==============================] - 4s 20ms/step - loss: 1.7140 - acc: 0.3677 - val_loss: 1.2786 - val_acc: 0.5706\n",
            "Epoch 3/50\n",
            "210/210 [==============================] - 4s 20ms/step - loss: 1.0887 - acc: 0.6367 - val_loss: 0.9050 - val_acc: 0.7071\n",
            "Epoch 4/50\n",
            "210/210 [==============================] - 4s 21ms/step - loss: 0.8306 - acc: 0.7362 - val_loss: 0.7060 - val_acc: 0.7793\n",
            "Epoch 5/50\n",
            "210/210 [==============================] - 4s 21ms/step - loss: 0.7064 - acc: 0.7800 - val_loss: 0.6556 - val_acc: 0.7947\n",
            "Epoch 6/50\n",
            "210/210 [==============================] - 4s 20ms/step - loss: 0.6314 - acc: 0.8034 - val_loss: 0.6023 - val_acc: 0.8135\n",
            "Epoch 7/50\n",
            "210/210 [==============================] - 4s 21ms/step - loss: 0.5734 - acc: 0.8205 - val_loss: 0.5377 - val_acc: 0.8345\n",
            "Epoch 8/50\n",
            "210/210 [==============================] - 5s 25ms/step - loss: 0.5378 - acc: 0.8321 - val_loss: 0.5187 - val_acc: 0.8407\n",
            "Epoch 9/50\n",
            "210/210 [==============================] - 4s 21ms/step - loss: 0.4981 - acc: 0.8460 - val_loss: 0.4676 - val_acc: 0.8597\n",
            "Epoch 10/50\n",
            "210/210 [==============================] - 4s 20ms/step - loss: 0.4596 - acc: 0.8563 - val_loss: 0.4548 - val_acc: 0.8620\n",
            "Epoch 11/50\n",
            "210/210 [==============================] - 4s 20ms/step - loss: 0.4383 - acc: 0.8631 - val_loss: 0.4493 - val_acc: 0.8627\n",
            "Epoch 12/50\n",
            "210/210 [==============================] - 4s 20ms/step - loss: 0.4169 - acc: 0.8696 - val_loss: 0.4114 - val_acc: 0.8766\n",
            "Epoch 13/50\n",
            "210/210 [==============================] - 4s 20ms/step - loss: 0.4021 - acc: 0.8733 - val_loss: 0.4157 - val_acc: 0.8735\n",
            "Epoch 14/50\n",
            "210/210 [==============================] - 4s 21ms/step - loss: 0.3811 - acc: 0.8810 - val_loss: 0.4048 - val_acc: 0.8777\n",
            "Epoch 15/50\n",
            "210/210 [==============================] - 4s 20ms/step - loss: 0.3663 - acc: 0.8850 - val_loss: 0.3822 - val_acc: 0.8868\n",
            "Epoch 16/50\n",
            "210/210 [==============================] - 4s 20ms/step - loss: 0.3533 - acc: 0.8897 - val_loss: 0.3666 - val_acc: 0.8915\n",
            "Epoch 17/50\n",
            "210/210 [==============================] - 4s 20ms/step - loss: 0.3367 - acc: 0.8953 - val_loss: 0.3657 - val_acc: 0.8915\n",
            "Epoch 18/50\n",
            "210/210 [==============================] - 4s 20ms/step - loss: 0.3302 - acc: 0.8960 - val_loss: 0.3502 - val_acc: 0.8984\n",
            "Epoch 19/50\n",
            "210/210 [==============================] - 4s 20ms/step - loss: 0.3139 - acc: 0.9031 - val_loss: 0.3483 - val_acc: 0.8985\n",
            "Epoch 20/50\n",
            "210/210 [==============================] - 4s 20ms/step - loss: 0.2979 - acc: 0.9075 - val_loss: 0.3458 - val_acc: 0.9007\n",
            "Epoch 21/50\n",
            "210/210 [==============================] - 4s 20ms/step - loss: 0.2908 - acc: 0.9093 - val_loss: 0.3294 - val_acc: 0.9062\n",
            "Epoch 22/50\n",
            "210/210 [==============================] - 4s 20ms/step - loss: 0.2810 - acc: 0.9130 - val_loss: 0.3246 - val_acc: 0.9078\n",
            "Epoch 23/50\n",
            "210/210 [==============================] - 4s 20ms/step - loss: 0.2770 - acc: 0.9136 - val_loss: 0.3316 - val_acc: 0.9054\n",
            "Epoch 24/50\n",
            "210/210 [==============================] - 4s 20ms/step - loss: 0.2683 - acc: 0.9163 - val_loss: 0.3119 - val_acc: 0.9128\n",
            "Epoch 25/50\n",
            "210/210 [==============================] - 4s 20ms/step - loss: 0.2575 - acc: 0.9206 - val_loss: 0.3263 - val_acc: 0.9083\n",
            "Epoch 26/50\n",
            "210/210 [==============================] - 4s 21ms/step - loss: 0.2524 - acc: 0.9212 - val_loss: 0.3069 - val_acc: 0.9145\n",
            "Epoch 27/50\n",
            "210/210 [==============================] - 4s 21ms/step - loss: 0.2447 - acc: 0.9239 - val_loss: 0.3018 - val_acc: 0.9166\n",
            "Epoch 28/50\n",
            "210/210 [==============================] - 4s 21ms/step - loss: 0.2386 - acc: 0.9259 - val_loss: 0.3048 - val_acc: 0.9158\n",
            "Epoch 29/50\n",
            "210/210 [==============================] - 4s 21ms/step - loss: 0.2345 - acc: 0.9275 - val_loss: 0.3057 - val_acc: 0.9158\n",
            "Epoch 30/50\n",
            "210/210 [==============================] - 4s 21ms/step - loss: 0.2275 - acc: 0.9293 - val_loss: 0.2922 - val_acc: 0.9210\n",
            "Epoch 31/50\n",
            "210/210 [==============================] - 4s 21ms/step - loss: 0.2200 - acc: 0.9311 - val_loss: 0.3012 - val_acc: 0.9186\n",
            "Epoch 32/50\n",
            "210/210 [==============================] - 4s 21ms/step - loss: 0.2160 - acc: 0.9327 - val_loss: 0.2961 - val_acc: 0.9207\n",
            "Epoch 33/50\n",
            "210/210 [==============================] - 4s 21ms/step - loss: 0.2115 - acc: 0.9348 - val_loss: 0.2803 - val_acc: 0.9255\n",
            "Epoch 34/50\n",
            "210/210 [==============================] - 4s 20ms/step - loss: 0.2049 - acc: 0.9368 - val_loss: 0.2832 - val_acc: 0.9258\n",
            "Epoch 35/50\n",
            "210/210 [==============================] - 4s 20ms/step - loss: 0.1982 - acc: 0.9390 - val_loss: 0.2961 - val_acc: 0.9212\n",
            "Epoch 36/50\n",
            "210/210 [==============================] - 4s 20ms/step - loss: 0.1980 - acc: 0.9398 - val_loss: 0.2797 - val_acc: 0.9269\n",
            "Epoch 37/50\n",
            "210/210 [==============================] - 4s 20ms/step - loss: 0.1948 - acc: 0.9410 - val_loss: 0.2762 - val_acc: 0.9285\n",
            "Epoch 38/50\n",
            "210/210 [==============================] - 4s 21ms/step - loss: 0.1882 - acc: 0.9418 - val_loss: 0.2777 - val_acc: 0.9284\n",
            "Epoch 39/50\n",
            "210/210 [==============================] - 4s 20ms/step - loss: 0.1798 - acc: 0.9456 - val_loss: 0.2770 - val_acc: 0.9298\n",
            "Epoch 40/50\n",
            "210/210 [==============================] - 4s 20ms/step - loss: 0.1784 - acc: 0.9459 - val_loss: 0.2771 - val_acc: 0.9297\n",
            "Epoch 41/50\n",
            "210/210 [==============================] - 4s 20ms/step - loss: 0.1768 - acc: 0.9461 - val_loss: 0.2783 - val_acc: 0.9300\n",
            "Epoch 42/50\n",
            "210/210 [==============================] - 4s 20ms/step - loss: 0.1773 - acc: 0.9457 - val_loss: 0.2724 - val_acc: 0.9319\n",
            "Epoch 43/50\n",
            "210/210 [==============================] - 4s 20ms/step - loss: 0.1690 - acc: 0.9488 - val_loss: 0.2799 - val_acc: 0.9310\n",
            "Epoch 44/50\n",
            "210/210 [==============================] - 4s 20ms/step - loss: 0.1685 - acc: 0.9473 - val_loss: 0.2723 - val_acc: 0.9332\n",
            "Epoch 45/50\n",
            "210/210 [==============================] - 4s 20ms/step - loss: 0.1625 - acc: 0.9502 - val_loss: 0.2701 - val_acc: 0.9331\n",
            "Epoch 46/50\n",
            "210/210 [==============================] - 4s 21ms/step - loss: 0.1595 - acc: 0.9507 - val_loss: 0.2691 - val_acc: 0.9341\n",
            "Epoch 47/50\n",
            "210/210 [==============================] - 5s 22ms/step - loss: 0.1606 - acc: 0.9505 - val_loss: 0.2686 - val_acc: 0.9358\n",
            "Epoch 48/50\n",
            "210/210 [==============================] - 4s 21ms/step - loss: 0.1545 - acc: 0.9528 - val_loss: 0.2766 - val_acc: 0.9328\n",
            "Epoch 49/50\n",
            "210/210 [==============================] - 4s 21ms/step - loss: 0.1520 - acc: 0.9534 - val_loss: 0.2680 - val_acc: 0.9356\n",
            "Epoch 50/50\n",
            "210/210 [==============================] - 4s 21ms/step - loss: 0.1463 - acc: 0.9563 - val_loss: 0.2670 - val_acc: 0.9367\n"
          ]
        },
        {
          "data": {
            "text/plain": [
              "<keras.callbacks.History at 0x7ff7d12b5810>"
            ]
          },
          "execution_count": 20,
          "metadata": {},
          "output_type": "execute_result"
        }
      ],
      "source": [
        "model.fit(X_train,y_train,          \n",
        "          validation_data=(X_val,y_val),\n",
        "          epochs = 50,\n",
        "          batch_size = 200)"
      ]
    },
    {
      "cell_type": "markdown",
      "metadata": {
        "id": "BmtPCVydjFAX"
      },
      "source": [
        "🥏 Model Accuracy using validation dataset:"
      ]
    },
    {
      "cell_type": "code",
      "execution_count": null,
      "metadata": {
        "colab": {
          "base_uri": "https://localhost:8080/"
        },
        "id": "eMzuYsR739z4",
        "outputId": "c519fffc-e04e-4f90-d05f-9cbe51736595"
      },
      "outputs": [
        {
          "name": "stdout",
          "output_type": "stream",
          "text": [
            "Accuracy: 93.67%\n",
            "Error   :  6.33%\n"
          ]
        }
      ],
      "source": [
        "score_val = model.evaluate(X_val,y_val, verbose=0)\n",
        "\n",
        "print('Accuracy: %.2f%%' % (score_val[1]*100))\n",
        "print(\"Error   :  %.2f%%\" % (100-score_val[1]*100))"
      ]
    },
    {
      "cell_type": "markdown",
      "metadata": {
        "id": "6ww6g1yrPAwp"
      },
      "source": [
        "🥏 Model Accuracy using test dataset:"
      ]
    },
    {
      "cell_type": "code",
      "execution_count": null,
      "metadata": {
        "colab": {
          "base_uri": "https://localhost:8080/"
        },
        "id": "CCpKRPQzOhQQ",
        "outputId": "de524a6a-8457-4db9-d42c-e7bf1c066324"
      },
      "outputs": [
        {
          "name": "stdout",
          "output_type": "stream",
          "text": [
            "Accuracy: 85.84%\n",
            "Error   :  14.16%\n"
          ]
        }
      ],
      "source": [
        "score_test = model.evaluate(X_test,y_test, verbose=0)\n",
        "\n",
        "print('Accuracy: %.2f%%' % (score_test[1]*100))\n",
        "print(\"Error   :  %.2f%%\" % (100-score_test[1]*100))"
      ]
    },
    {
      "cell_type": "markdown",
      "metadata": {
        "id": "9llSXFl-qxuy"
      },
      "source": [
        "While model evaluation looks good, lets actually get few prediction from model using test dataset and compare them with actual values."
      ]
    },
    {
      "cell_type": "code",
      "execution_count": null,
      "metadata": {
        "id": "VwhEmHwGk6cz"
      },
      "outputs": [],
      "source": [
        "pred = model.predict(X_test) \n",
        "pred = np.argmax(pred, axis = 1)[:25] \n",
        "label = np.argmax(y_test,axis = 1)[:25] "
      ]
    },
    {
      "cell_type": "code",
      "execution_count": null,
      "metadata": {
        "colab": {
          "base_uri": "https://localhost:8080/"
        },
        "id": "o6E5-wCbqgS4",
        "outputId": "fec291c1-639d-4dce-b128-a2ef96a55342"
      },
      "outputs": [
        {
          "name": "stdout",
          "output_type": "stream",
          "text": [
            "[2 7 2 9 0 9 1 8 1 4 8 2 1 4 3 5 8 6 5 5 0 6 5 8 3] <-- Predicted digits.\n",
            "[1 7 2 9 0 9 1 8 4 4 8 9 1 4 3 5 8 6 5 5 0 6 5 8 3] <-- Actual digits.\n"
          ]
        }
      ],
      "source": [
        "print(pred, '<-- Predicted digits.') \n",
        "print(label, '<-- Actual digits.')"
      ]
    },
    {
      "cell_type": "markdown",
      "metadata": {
        "id": "w0NnZHGfrWf7"
      },
      "source": [
        "We can see here that 22 out of 25 digits are predicted correctly here which is 88% accurate."
      ]
    },
    {
      "cell_type": "markdown",
      "metadata": {
        "id": "N3r2mnZOnWYt"
      },
      "source": [
        "### 🥏 Conclusion:"
      ]
    },
    {
      "cell_type": "markdown",
      "metadata": {
        "id": "KbhhTO7bqhGt"
      },
      "source": [
        "Deep Learning model, that solves a real world problem (recognizing digits and numbers in natural scene images) with quite good accuracy was created from a real-world image dataset. The model accuracy could be improved by fine tuning the hyperparameter."
      ]
    },
    {
      "cell_type": "code",
      "execution_count": null,
      "metadata": {
        "id": "qwTFyVha299k"
      },
      "outputs": [],
      "source": []
    }
  ],
  "metadata": {
    "colab": {
      "provenance": []
    },
    "kernelspec": {
      "display_name": "Python 3 (ipykernel)",
      "language": "python",
      "name": "python3"
    },
    "language_info": {
      "codemirror_mode": {
        "name": "ipython",
        "version": 3
      },
      "file_extension": ".py",
      "mimetype": "text/x-python",
      "name": "python",
      "nbconvert_exporter": "python",
      "pygments_lexer": "ipython3",
      "version": "3.8.13"
    }
  },
  "nbformat": 4,
  "nbformat_minor": 0
}