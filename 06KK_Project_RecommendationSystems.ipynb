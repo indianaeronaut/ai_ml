{
  "cells": [
    {
      "cell_type": "markdown",
      "metadata": {
        "id": "ZEm3gVsvEv8G"
      },
      "source": [
        "# Project: Recommendation System\n",
        "# By: Krishna Kant Kaushal\n",
        "# Python version used: Python 3.7.3"
      ]
    },
    {
      "cell_type": "markdown",
      "metadata": {
        "id": "oYgptP7uDmxk"
      },
      "source": [
        "🥏Data Description:\n",
        "\n",
        "    Amazon Reviews data (​data source​). The repository has several datasets. For this case study, we are using\n",
        "    the Electronics dataset."
      ]
    },
    {
      "cell_type": "markdown",
      "metadata": {
        "id": "2DImj5RUDmxl"
      },
      "source": [
        "🥏Domain:\n",
        "\n",
        "    E-commerce"
      ]
    },
    {
      "cell_type": "markdown",
      "metadata": {
        "id": "JwK5JQzODmxn"
      },
      "source": [
        "🥏Context:\n",
        "\n",
        "    Online E-commerce websites like Amazon, Flipkart uses different recommendation models to provide different\n",
        "    suggestions to different users. Amazon currently uses item-to-item collaborative filtering, which scales\n",
        "    to massive data sets and produces high-quality recommendations in real-time."
      ]
    },
    {
      "cell_type": "markdown",
      "metadata": {
        "id": "BVE8tGrADmxo"
      },
      "source": [
        "🥏Attribute Information:\n",
        "\n",
        "    ● userId: Every user identified with a unique id \n",
        "    ● productId: Every product identified with a uniqueid\n",
        "    ● Rating: Rating of the corresponding product by  the corresponding user\n",
        "    ● timestamp :Time of the rating(ignore this column for this exercise)"
      ]
    },
    {
      "cell_type": "markdown",
      "metadata": {
        "id": "HAKmmxm6Dmxq"
      },
      "source": [
        "🥏Learning Outcomes:\n",
        "    \n",
        "    ● Exploratory Data Analysis\n",
        "    ● Creating a Recommendation system using real data \n",
        "    ● Collaborative filtering"
      ]
    },
    {
      "cell_type": "markdown",
      "metadata": {
        "id": "L1yt231QDmxr"
      },
      "source": [
        "🥏Objective:\n",
        "    \n",
        "    Build a recommendation system to recommend products to customers based on the their previous ratings\n",
        "    for other products."
      ]
    },
    {
      "cell_type": "markdown",
      "metadata": {
        "id": "sXQeJltQDmxs"
      },
      "source": [
        "🥏Steps and tasks:\n",
        "\n",
        "    ✓1. Read and explore the given dataset. \n",
        "        (Rename column/add headers, plot histograms, find data characteristics) - (2.5 Marks)\n",
        "    ✓2. Take a subset of the dataset to make it less sparse/ denser.\n",
        "        (For example, keep the users only who has given 50 or more number of ratings ) - (2.5 Marks)\n",
        "    ✓3. Split the data randomly into train and test dataset.\n",
        "        (For example, split it in 70/30 ratio) - (2.5 Marks)\n",
        "    ✓4. Build Popularity Recommender model. - (20 Marks)\n",
        "    ✓5. Build Collaborative Filtering model. - (20 Marks)\n",
        "    ✓6. Evaluate both the models.\n",
        "        (Once the model is trained on the training data, it can be used to compute the error(RMSE)\n",
        "        on predictions made on the test data.) - (7.5 Marks)\n",
        "    ✓7. Get top - K ( K = 5) recommendations. \n",
        "        Since our goal is to recommend new products for each user based on his/her habits, we will \n",
        "        recommend 5 new products. - (7.5 Marks)\n",
        "    ✓8. Summarise your insights. - (7.5 marks)"
      ]
    },
    {
      "cell_type": "markdown",
      "metadata": {
        "id": "b938i272Dmxu"
      },
      "source": [
        "### Import the necessary libraries"
      ]
    },
    {
      "cell_type": "code",
      "execution_count": null,
      "metadata": {
        "id": "_Uy5NE9oDmxz"
      },
      "outputs": [],
      "source": [
        "# for arrays and matrices\n",
        "import numpy as np\n",
        "from numpy import array\n",
        "from numpy import diag\n",
        "from numpy import dot\n",
        "\n",
        "from scipy.linalg import svd\n",
        "\n",
        "# for importingimport  data and data analysis\n",
        "import pandas as pd\n",
        "\n",
        "import warnings\n",
        "warnings.filterwarnings('ignore')\n",
        "\n",
        "# for visualization\n",
        "import matplotlib.pyplot as plt\n",
        "import seaborn as sns\n",
        "\n",
        "from sklearn.metrics.pairwise import cosine_similarity\n",
        "from sklearn.feature_extraction.text import CountVectorizer\n",
        "\n",
        "from surprise import KNNWithMeans\n",
        "from surprise import Dataset\n",
        "from surprise import Reader\n",
        "from surprise import accuracy\n",
        "from surprise.model_selection import train_test_split\n",
        "\n",
        "from collections import defaultdict\n",
        "\n",
        "from surprise import SVD\n",
        "from surprise import Dataset"
      ]
    },
    {
      "cell_type": "markdown",
      "metadata": {
        "id": "ZVbJiE28gVaV"
      },
      "source": [
        "# 1. Read and explore the given dataset"
      ]
    },
    {
      "cell_type": "markdown",
      "metadata": {
        "id": "RoMOoy0HgVaV"
      },
      "source": [
        "#### Adding headers"
      ]
    },
    {
      "cell_type": "code",
      "execution_count": null,
      "metadata": {
        "id": "vYGzPevdgVaV"
      },
      "outputs": [],
      "source": [
        "# Reading the dataset fron .csv file \n",
        "eds = pd.read_csv('ratings_Electronics.csv')"
      ]
    },
    {
      "cell_type": "code",
      "execution_count": null,
      "metadata": {
        "id": "8N8Z_LEhgVaV"
      },
      "outputs": [],
      "source": [
        "# Adding headers:\n",
        "columns = [\"userId\",\"productId\",\"ratings\",\"timestamp\"]\n",
        "eds.columns = columns"
      ]
    },
    {
      "cell_type": "code",
      "execution_count": null,
      "metadata": {
        "id": "o4iMY98-gVaV",
        "outputId": "40c6813d-de6a-4419-ef00-0f9f2d3ac91f"
      },
      "outputs": [
        {
          "data": {
            "text/html": [
              "<div>\n",
              "<style scoped>\n",
              "    .dataframe tbody tr th:only-of-type {\n",
              "        vertical-align: middle;\n",
              "    }\n",
              "\n",
              "    .dataframe tbody tr th {\n",
              "        vertical-align: top;\n",
              "    }\n",
              "\n",
              "    .dataframe thead th {\n",
              "        text-align: right;\n",
              "    }\n",
              "</style>\n",
              "<table border=\"1\" class=\"dataframe\">\n",
              "  <thead>\n",
              "    <tr style=\"text-align: right;\">\n",
              "      <th></th>\n",
              "      <th>userId</th>\n",
              "      <th>productId</th>\n",
              "      <th>ratings</th>\n",
              "    </tr>\n",
              "  </thead>\n",
              "  <tbody>\n",
              "    <tr>\n",
              "      <th>0</th>\n",
              "      <td>A2CX7LUOHB2NDG</td>\n",
              "      <td>0321732944</td>\n",
              "      <td>5.0</td>\n",
              "    </tr>\n",
              "    <tr>\n",
              "      <th>1</th>\n",
              "      <td>A2NWSAGRHCP8N5</td>\n",
              "      <td>0439886341</td>\n",
              "      <td>1.0</td>\n",
              "    </tr>\n",
              "    <tr>\n",
              "      <th>2</th>\n",
              "      <td>A2WNBOD3WNDNKT</td>\n",
              "      <td>0439886341</td>\n",
              "      <td>3.0</td>\n",
              "    </tr>\n",
              "    <tr>\n",
              "      <th>3</th>\n",
              "      <td>A1GI0U4ZRJA8WN</td>\n",
              "      <td>0439886341</td>\n",
              "      <td>1.0</td>\n",
              "    </tr>\n",
              "    <tr>\n",
              "      <th>4</th>\n",
              "      <td>A1QGNMC6O1VW39</td>\n",
              "      <td>0511189877</td>\n",
              "      <td>5.0</td>\n",
              "    </tr>\n",
              "    <tr>\n",
              "      <th>5</th>\n",
              "      <td>A3J3BRHTDRFJ2G</td>\n",
              "      <td>0511189877</td>\n",
              "      <td>2.0</td>\n",
              "    </tr>\n",
              "    <tr>\n",
              "      <th>6</th>\n",
              "      <td>A2TY0BTJOTENPG</td>\n",
              "      <td>0511189877</td>\n",
              "      <td>5.0</td>\n",
              "    </tr>\n",
              "    <tr>\n",
              "      <th>7</th>\n",
              "      <td>A34ATBPOK6HCHY</td>\n",
              "      <td>0511189877</td>\n",
              "      <td>5.0</td>\n",
              "    </tr>\n",
              "    <tr>\n",
              "      <th>8</th>\n",
              "      <td>A89DO69P0XZ27</td>\n",
              "      <td>0511189877</td>\n",
              "      <td>5.0</td>\n",
              "    </tr>\n",
              "    <tr>\n",
              "      <th>9</th>\n",
              "      <td>AZYNQZ94U6VDB</td>\n",
              "      <td>0511189877</td>\n",
              "      <td>5.0</td>\n",
              "    </tr>\n",
              "    <tr>\n",
              "      <th>10</th>\n",
              "      <td>A1DA3W4GTFXP6O</td>\n",
              "      <td>0528881469</td>\n",
              "      <td>5.0</td>\n",
              "    </tr>\n",
              "    <tr>\n",
              "      <th>11</th>\n",
              "      <td>A29LPQQDG7LD5J</td>\n",
              "      <td>0528881469</td>\n",
              "      <td>1.0</td>\n",
              "    </tr>\n",
              "    <tr>\n",
              "      <th>12</th>\n",
              "      <td>AO94DHGC771SJ</td>\n",
              "      <td>0528881469</td>\n",
              "      <td>5.0</td>\n",
              "    </tr>\n",
              "    <tr>\n",
              "      <th>13</th>\n",
              "      <td>AMO214LNFCEI4</td>\n",
              "      <td>0528881469</td>\n",
              "      <td>1.0</td>\n",
              "    </tr>\n",
              "    <tr>\n",
              "      <th>14</th>\n",
              "      <td>A28B1G1MSJ6OO1</td>\n",
              "      <td>0528881469</td>\n",
              "      <td>4.0</td>\n",
              "    </tr>\n",
              "    <tr>\n",
              "      <th>15</th>\n",
              "      <td>A3N7T0DY83Y4IG</td>\n",
              "      <td>0528881469</td>\n",
              "      <td>3.0</td>\n",
              "    </tr>\n",
              "    <tr>\n",
              "      <th>16</th>\n",
              "      <td>A1H8PY3QHMQQA0</td>\n",
              "      <td>0528881469</td>\n",
              "      <td>2.0</td>\n",
              "    </tr>\n",
              "    <tr>\n",
              "      <th>17</th>\n",
              "      <td>A2CPBQ5W4OGBX</td>\n",
              "      <td>0528881469</td>\n",
              "      <td>2.0</td>\n",
              "    </tr>\n",
              "    <tr>\n",
              "      <th>18</th>\n",
              "      <td>A265MKAR2WEH3Y</td>\n",
              "      <td>0528881469</td>\n",
              "      <td>4.0</td>\n",
              "    </tr>\n",
              "    <tr>\n",
              "      <th>19</th>\n",
              "      <td>A37K02NKUIT68K</td>\n",
              "      <td>0528881469</td>\n",
              "      <td>5.0</td>\n",
              "    </tr>\n",
              "    <tr>\n",
              "      <th>20</th>\n",
              "      <td>A2AW1SSVUIYV9Y</td>\n",
              "      <td>0528881469</td>\n",
              "      <td>4.0</td>\n",
              "    </tr>\n",
              "    <tr>\n",
              "      <th>21</th>\n",
              "      <td>A2AEHUKOV014BP</td>\n",
              "      <td>0528881469</td>\n",
              "      <td>5.0</td>\n",
              "    </tr>\n",
              "    <tr>\n",
              "      <th>22</th>\n",
              "      <td>AMLFNXUIEMN4T</td>\n",
              "      <td>0528881469</td>\n",
              "      <td>1.0</td>\n",
              "    </tr>\n",
              "    <tr>\n",
              "      <th>23</th>\n",
              "      <td>A2O8FIJR9EBU56</td>\n",
              "      <td>0528881469</td>\n",
              "      <td>4.0</td>\n",
              "    </tr>\n",
              "    <tr>\n",
              "      <th>24</th>\n",
              "      <td>A3IQGFB959IR4P</td>\n",
              "      <td>0528881469</td>\n",
              "      <td>1.0</td>\n",
              "    </tr>\n",
              "    <tr>\n",
              "      <th>25</th>\n",
              "      <td>AYTBGUX49LF3W</td>\n",
              "      <td>0528881469</td>\n",
              "      <td>4.0</td>\n",
              "    </tr>\n",
              "    <tr>\n",
              "      <th>26</th>\n",
              "      <td>A24QFSUU00IZ05</td>\n",
              "      <td>0528881469</td>\n",
              "      <td>2.0</td>\n",
              "    </tr>\n",
              "    <tr>\n",
              "      <th>27</th>\n",
              "      <td>A1NG5X8VYZWX0Q</td>\n",
              "      <td>0528881469</td>\n",
              "      <td>1.0</td>\n",
              "    </tr>\n",
              "    <tr>\n",
              "      <th>28</th>\n",
              "      <td>A1E4WG8HRWWK4R</td>\n",
              "      <td>0528881469</td>\n",
              "      <td>5.0</td>\n",
              "    </tr>\n",
              "    <tr>\n",
              "      <th>29</th>\n",
              "      <td>A2AOEW5UGXFOOQ</td>\n",
              "      <td>0528881469</td>\n",
              "      <td>5.0</td>\n",
              "    </tr>\n",
              "    <tr>\n",
              "      <th>...</th>\n",
              "      <td>...</td>\n",
              "      <td>...</td>\n",
              "      <td>...</td>\n",
              "    </tr>\n",
              "    <tr>\n",
              "      <th>7824451</th>\n",
              "      <td>A3AENU8Y9HLRAQ</td>\n",
              "      <td>B00LMOH8DU</td>\n",
              "      <td>5.0</td>\n",
              "    </tr>\n",
              "    <tr>\n",
              "      <th>7824452</th>\n",
              "      <td>ABX8TXRB2GSKO</td>\n",
              "      <td>B00LMOH8DU</td>\n",
              "      <td>5.0</td>\n",
              "    </tr>\n",
              "    <tr>\n",
              "      <th>7824453</th>\n",
              "      <td>A1QUWXCBPGCQMW</td>\n",
              "      <td>B00LMOH8DU</td>\n",
              "      <td>5.0</td>\n",
              "    </tr>\n",
              "    <tr>\n",
              "      <th>7824454</th>\n",
              "      <td>A37B1XSZUYNSNK</td>\n",
              "      <td>B00LMOH8DU</td>\n",
              "      <td>5.0</td>\n",
              "    </tr>\n",
              "    <tr>\n",
              "      <th>7824455</th>\n",
              "      <td>A3FOXB6244Y5PC</td>\n",
              "      <td>B00LNUH5X6</td>\n",
              "      <td>5.0</td>\n",
              "    </tr>\n",
              "    <tr>\n",
              "      <th>7824456</th>\n",
              "      <td>AELQMX8YAEEYI</td>\n",
              "      <td>B00LOLBBQQ</td>\n",
              "      <td>5.0</td>\n",
              "    </tr>\n",
              "    <tr>\n",
              "      <th>7824457</th>\n",
              "      <td>AG1NNE1V43RWC</td>\n",
              "      <td>B00LOLBBQQ</td>\n",
              "      <td>1.0</td>\n",
              "    </tr>\n",
              "    <tr>\n",
              "      <th>7824458</th>\n",
              "      <td>A2QW4HHHC6XWH4</td>\n",
              "      <td>B00LPQRT34</td>\n",
              "      <td>4.0</td>\n",
              "    </tr>\n",
              "    <tr>\n",
              "      <th>7824459</th>\n",
              "      <td>A2025SOZT6OE6D</td>\n",
              "      <td>B00LS5WBYE</td>\n",
              "      <td>5.0</td>\n",
              "    </tr>\n",
              "    <tr>\n",
              "      <th>7824460</th>\n",
              "      <td>A2DOJYSPCLCQIT</td>\n",
              "      <td>B00LTAUTHE</td>\n",
              "      <td>5.0</td>\n",
              "    </tr>\n",
              "    <tr>\n",
              "      <th>7824461</th>\n",
              "      <td>A1PB6OT0OOPKNQ</td>\n",
              "      <td>B00LXEC8CU</td>\n",
              "      <td>5.0</td>\n",
              "    </tr>\n",
              "    <tr>\n",
              "      <th>7824462</th>\n",
              "      <td>A1MTPZKAYVSES3</td>\n",
              "      <td>BT008G3W52</td>\n",
              "      <td>5.0</td>\n",
              "    </tr>\n",
              "    <tr>\n",
              "      <th>7824463</th>\n",
              "      <td>AS7WVL4JGN1FI</td>\n",
              "      <td>BT008SXQ4C</td>\n",
              "      <td>1.0</td>\n",
              "    </tr>\n",
              "    <tr>\n",
              "      <th>7824464</th>\n",
              "      <td>A3GGII8ILEUI4P</td>\n",
              "      <td>BT008T2BGK</td>\n",
              "      <td>5.0</td>\n",
              "    </tr>\n",
              "    <tr>\n",
              "      <th>7824465</th>\n",
              "      <td>ATK4Q037EM13F</td>\n",
              "      <td>BT008UKTMW</td>\n",
              "      <td>4.0</td>\n",
              "    </tr>\n",
              "    <tr>\n",
              "      <th>7824466</th>\n",
              "      <td>AT10LK8R9MLHT</td>\n",
              "      <td>BT008UKTMW</td>\n",
              "      <td>3.0</td>\n",
              "    </tr>\n",
              "    <tr>\n",
              "      <th>7824467</th>\n",
              "      <td>AKVMJCP7T93X1</td>\n",
              "      <td>BT008UKTMW</td>\n",
              "      <td>5.0</td>\n",
              "    </tr>\n",
              "    <tr>\n",
              "      <th>7824468</th>\n",
              "      <td>A2H4BLBXDNSZ2O</td>\n",
              "      <td>BT008UKTMW</td>\n",
              "      <td>4.0</td>\n",
              "    </tr>\n",
              "    <tr>\n",
              "      <th>7824469</th>\n",
              "      <td>A2DARIL2TWUOLS</td>\n",
              "      <td>BT008UKTMW</td>\n",
              "      <td>2.0</td>\n",
              "    </tr>\n",
              "    <tr>\n",
              "      <th>7824470</th>\n",
              "      <td>A7ETK9SC1HAMP</td>\n",
              "      <td>BT008UKTMW</td>\n",
              "      <td>5.0</td>\n",
              "    </tr>\n",
              "    <tr>\n",
              "      <th>7824471</th>\n",
              "      <td>A5FUA9HEV2O42</td>\n",
              "      <td>BT008UKTMW</td>\n",
              "      <td>5.0</td>\n",
              "    </tr>\n",
              "    <tr>\n",
              "      <th>7824472</th>\n",
              "      <td>A84WRQR47OOKR</td>\n",
              "      <td>BT008UKTMW</td>\n",
              "      <td>1.0</td>\n",
              "    </tr>\n",
              "    <tr>\n",
              "      <th>7824473</th>\n",
              "      <td>A180UGKKYCPDH0</td>\n",
              "      <td>BT008UKTMW</td>\n",
              "      <td>5.0</td>\n",
              "    </tr>\n",
              "    <tr>\n",
              "      <th>7824474</th>\n",
              "      <td>A2R6Q6KJCYSVH7</td>\n",
              "      <td>BT008UKTMW</td>\n",
              "      <td>3.0</td>\n",
              "    </tr>\n",
              "    <tr>\n",
              "      <th>7824475</th>\n",
              "      <td>A2IGIIABRZ5LAB</td>\n",
              "      <td>BT008UKTMW</td>\n",
              "      <td>5.0</td>\n",
              "    </tr>\n",
              "    <tr>\n",
              "      <th>7824476</th>\n",
              "      <td>A2YZI3C9MOHC0L</td>\n",
              "      <td>BT008UKTMW</td>\n",
              "      <td>5.0</td>\n",
              "    </tr>\n",
              "    <tr>\n",
              "      <th>7824477</th>\n",
              "      <td>A322MDK0M89RHN</td>\n",
              "      <td>BT008UKTMW</td>\n",
              "      <td>5.0</td>\n",
              "    </tr>\n",
              "    <tr>\n",
              "      <th>7824478</th>\n",
              "      <td>A1MH90R0ADMIK0</td>\n",
              "      <td>BT008UKTMW</td>\n",
              "      <td>4.0</td>\n",
              "    </tr>\n",
              "    <tr>\n",
              "      <th>7824479</th>\n",
              "      <td>A10M2KEFPEQDHN</td>\n",
              "      <td>BT008UKTMW</td>\n",
              "      <td>4.0</td>\n",
              "    </tr>\n",
              "    <tr>\n",
              "      <th>7824480</th>\n",
              "      <td>A2G81TMIOIDEQQ</td>\n",
              "      <td>BT008V9J9U</td>\n",
              "      <td>5.0</td>\n",
              "    </tr>\n",
              "  </tbody>\n",
              "</table>\n",
              "<p>7824481 rows × 3 columns</p>\n",
              "</div>"
            ],
            "text/plain": [
              "                 userId   productId  ratings\n",
              "0        A2CX7LUOHB2NDG  0321732944      5.0\n",
              "1        A2NWSAGRHCP8N5  0439886341      1.0\n",
              "2        A2WNBOD3WNDNKT  0439886341      3.0\n",
              "3        A1GI0U4ZRJA8WN  0439886341      1.0\n",
              "4        A1QGNMC6O1VW39  0511189877      5.0\n",
              "5        A3J3BRHTDRFJ2G  0511189877      2.0\n",
              "6        A2TY0BTJOTENPG  0511189877      5.0\n",
              "7        A34ATBPOK6HCHY  0511189877      5.0\n",
              "8         A89DO69P0XZ27  0511189877      5.0\n",
              "9         AZYNQZ94U6VDB  0511189877      5.0\n",
              "10       A1DA3W4GTFXP6O  0528881469      5.0\n",
              "11       A29LPQQDG7LD5J  0528881469      1.0\n",
              "12        AO94DHGC771SJ  0528881469      5.0\n",
              "13        AMO214LNFCEI4  0528881469      1.0\n",
              "14       A28B1G1MSJ6OO1  0528881469      4.0\n",
              "15       A3N7T0DY83Y4IG  0528881469      3.0\n",
              "16       A1H8PY3QHMQQA0  0528881469      2.0\n",
              "17        A2CPBQ5W4OGBX  0528881469      2.0\n",
              "18       A265MKAR2WEH3Y  0528881469      4.0\n",
              "19       A37K02NKUIT68K  0528881469      5.0\n",
              "20       A2AW1SSVUIYV9Y  0528881469      4.0\n",
              "21       A2AEHUKOV014BP  0528881469      5.0\n",
              "22        AMLFNXUIEMN4T  0528881469      1.0\n",
              "23       A2O8FIJR9EBU56  0528881469      4.0\n",
              "24       A3IQGFB959IR4P  0528881469      1.0\n",
              "25        AYTBGUX49LF3W  0528881469      4.0\n",
              "26       A24QFSUU00IZ05  0528881469      2.0\n",
              "27       A1NG5X8VYZWX0Q  0528881469      1.0\n",
              "28       A1E4WG8HRWWK4R  0528881469      5.0\n",
              "29       A2AOEW5UGXFOOQ  0528881469      5.0\n",
              "...                 ...         ...      ...\n",
              "7824451  A3AENU8Y9HLRAQ  B00LMOH8DU      5.0\n",
              "7824452   ABX8TXRB2GSKO  B00LMOH8DU      5.0\n",
              "7824453  A1QUWXCBPGCQMW  B00LMOH8DU      5.0\n",
              "7824454  A37B1XSZUYNSNK  B00LMOH8DU      5.0\n",
              "7824455  A3FOXB6244Y5PC  B00LNUH5X6      5.0\n",
              "7824456   AELQMX8YAEEYI  B00LOLBBQQ      5.0\n",
              "7824457   AG1NNE1V43RWC  B00LOLBBQQ      1.0\n",
              "7824458  A2QW4HHHC6XWH4  B00LPQRT34      4.0\n",
              "7824459  A2025SOZT6OE6D  B00LS5WBYE      5.0\n",
              "7824460  A2DOJYSPCLCQIT  B00LTAUTHE      5.0\n",
              "7824461  A1PB6OT0OOPKNQ  B00LXEC8CU      5.0\n",
              "7824462  A1MTPZKAYVSES3  BT008G3W52      5.0\n",
              "7824463   AS7WVL4JGN1FI  BT008SXQ4C      1.0\n",
              "7824464  A3GGII8ILEUI4P  BT008T2BGK      5.0\n",
              "7824465   ATK4Q037EM13F  BT008UKTMW      4.0\n",
              "7824466   AT10LK8R9MLHT  BT008UKTMW      3.0\n",
              "7824467   AKVMJCP7T93X1  BT008UKTMW      5.0\n",
              "7824468  A2H4BLBXDNSZ2O  BT008UKTMW      4.0\n",
              "7824469  A2DARIL2TWUOLS  BT008UKTMW      2.0\n",
              "7824470   A7ETK9SC1HAMP  BT008UKTMW      5.0\n",
              "7824471   A5FUA9HEV2O42  BT008UKTMW      5.0\n",
              "7824472   A84WRQR47OOKR  BT008UKTMW      1.0\n",
              "7824473  A180UGKKYCPDH0  BT008UKTMW      5.0\n",
              "7824474  A2R6Q6KJCYSVH7  BT008UKTMW      3.0\n",
              "7824475  A2IGIIABRZ5LAB  BT008UKTMW      5.0\n",
              "7824476  A2YZI3C9MOHC0L  BT008UKTMW      5.0\n",
              "7824477  A322MDK0M89RHN  BT008UKTMW      5.0\n",
              "7824478  A1MH90R0ADMIK0  BT008UKTMW      4.0\n",
              "7824479  A10M2KEFPEQDHN  BT008UKTMW      4.0\n",
              "7824480  A2G81TMIOIDEQQ  BT008V9J9U      5.0\n",
              "\n",
              "[7824481 rows x 3 columns]"
            ]
          },
          "execution_count": 4,
          "metadata": {},
          "output_type": "execute_result"
        }
      ],
      "source": [
        "# drop timestamp as it doesn't help in recommendations\n",
        "eds.drop(\"timestamp\",axis=1, inplace=True)\n",
        "eds"
      ]
    },
    {
      "cell_type": "markdown",
      "metadata": {
        "id": "PcoN2N0tgVaW"
      },
      "source": [
        "##### Lets Check presence of missing value"
      ]
    },
    {
      "cell_type": "code",
      "execution_count": null,
      "metadata": {
        "id": "H3Q8zHfcgVaX",
        "outputId": "cfe5e2b6-2e90-47cd-951f-53765c214660"
      },
      "outputs": [
        {
          "name": "stdout",
          "output_type": "stream",
          "text": [
            "Number of Missing Values by Attributes:\n",
            "\n",
            "userId       0\n",
            "productId    0\n",
            "ratings      0\n",
            "dtype: int64\n"
          ]
        }
      ],
      "source": [
        "print('Number of Missing Values by Attributes:\\n')\n",
        "print(eds.isnull().sum())"
      ]
    },
    {
      "cell_type": "markdown",
      "metadata": {
        "id": "LYA2UDkpgVaX"
      },
      "source": [
        "** Comment(s):\n",
        "    1. There are no missing values in dataset."
      ]
    },
    {
      "cell_type": "code",
      "execution_count": null,
      "metadata": {
        "id": "NCe_-vbfgVaX",
        "outputId": "7ac6f684-314a-435b-e958-f06f5294e6b6"
      },
      "outputs": [
        {
          "data": {
            "text/html": [
              "<div>\n",
              "<style scoped>\n",
              "    .dataframe tbody tr th:only-of-type {\n",
              "        vertical-align: middle;\n",
              "    }\n",
              "\n",
              "    .dataframe tbody tr th {\n",
              "        vertical-align: top;\n",
              "    }\n",
              "\n",
              "    .dataframe thead th {\n",
              "        text-align: right;\n",
              "    }\n",
              "</style>\n",
              "<table border=\"1\" class=\"dataframe\">\n",
              "  <thead>\n",
              "    <tr style=\"text-align: right;\">\n",
              "      <th></th>\n",
              "      <th>userId</th>\n",
              "      <th>productId</th>\n",
              "      <th>ratings</th>\n",
              "    </tr>\n",
              "  </thead>\n",
              "  <tbody>\n",
              "    <tr>\n",
              "      <th>0</th>\n",
              "      <td>A2CX7LUOHB2NDG</td>\n",
              "      <td>0321732944</td>\n",
              "      <td>5.0</td>\n",
              "    </tr>\n",
              "    <tr>\n",
              "      <th>1</th>\n",
              "      <td>A2NWSAGRHCP8N5</td>\n",
              "      <td>0439886341</td>\n",
              "      <td>1.0</td>\n",
              "    </tr>\n",
              "    <tr>\n",
              "      <th>2</th>\n",
              "      <td>A2WNBOD3WNDNKT</td>\n",
              "      <td>0439886341</td>\n",
              "      <td>3.0</td>\n",
              "    </tr>\n",
              "    <tr>\n",
              "      <th>3</th>\n",
              "      <td>A1GI0U4ZRJA8WN</td>\n",
              "      <td>0439886341</td>\n",
              "      <td>1.0</td>\n",
              "    </tr>\n",
              "    <tr>\n",
              "      <th>4</th>\n",
              "      <td>A1QGNMC6O1VW39</td>\n",
              "      <td>0511189877</td>\n",
              "      <td>5.0</td>\n",
              "    </tr>\n",
              "  </tbody>\n",
              "</table>\n",
              "</div>"
            ],
            "text/plain": [
              "           userId   productId  ratings\n",
              "0  A2CX7LUOHB2NDG  0321732944      5.0\n",
              "1  A2NWSAGRHCP8N5  0439886341      1.0\n",
              "2  A2WNBOD3WNDNKT  0439886341      3.0\n",
              "3  A1GI0U4ZRJA8WN  0439886341      1.0\n",
              "4  A1QGNMC6O1VW39  0511189877      5.0"
            ]
          },
          "execution_count": 6,
          "metadata": {},
          "output_type": "execute_result"
        }
      ],
      "source": [
        "eds.head()"
      ]
    },
    {
      "cell_type": "markdown",
      "metadata": {
        "id": "F_LD6jY5gVaX"
      },
      "source": [
        "#### Plotting histograms"
      ]
    },
    {
      "cell_type": "code",
      "execution_count": null,
      "metadata": {
        "id": "9U9daG5kgVaY",
        "outputId": "86e81488-0e9a-439f-d269-ac8d3418fdc7"
      },
      "outputs": [
        {
          "data": {
            "image/png": "[encoded data removed]",
            "text/plain": [
              "<Figure size 432x288 with 1 Axes>"
            ]
          },
          "metadata": {
            "needs_background": "light"
          },
          "output_type": "display_data"
        }
      ],
      "source": [
        "plt.hist(eds[\"ratings\"], bins = [.5, 1.5,2.5,3.5,4.5,5.5]) \n",
        "plt.title(\"eCommerce\")\n",
        "plt.show()"
      ]
    },
    {
      "cell_type": "markdown",
      "metadata": {
        "id": "vSDAFgR9gVaY"
      },
      "source": [
        "** Comment(s):\n",
        "    1. More than half of the products have been rated 5 star. So it more likely that these movies\n",
        "        will be reccommended."
      ]
    },
    {
      "cell_type": "markdown",
      "metadata": {
        "id": "wPuptZ3mgVaY"
      },
      "source": [
        "#### find data characteristics"
      ]
    },
    {
      "cell_type": "code",
      "execution_count": null,
      "metadata": {
        "id": "ANlpR_QDgVaY",
        "outputId": "32195d16-8e46-484f-fcb0-f856d9638a54"
      },
      "outputs": [
        {
          "name": "stdout",
          "output_type": "stream",
          "text": [
            "<class 'pandas.core.frame.DataFrame'>\n",
            "RangeIndex: 7824481 entries, 0 to 7824480\n",
            "Data columns (total 3 columns):\n",
            "userId       object\n",
            "productId    object\n",
            "ratings      float64\n",
            "dtypes: float64(1), object(2)\n",
            "memory usage: 179.1+ MB\n"
          ]
        }
      ],
      "source": [
        "eds.info()"
      ]
    },
    {
      "cell_type": "markdown",
      "metadata": {
        "id": "RCjobv_GgVaY"
      },
      "source": [
        "** Comment(s):\n",
        "    1. As userId and productId are labels, the should be of object type which they are. \n",
        "        So no need to change thier types.\n",
        "    2. Ratings are in float64 format. Again there is no need to change it."
      ]
    },
    {
      "cell_type": "code",
      "execution_count": null,
      "metadata": {
        "id": "OHRzASJRgVaZ",
        "outputId": "d28da32c-405c-4b9e-dc2a-f124aa2c2efb"
      },
      "outputs": [
        {
          "name": "stdout",
          "output_type": "stream",
          "text": [
            "eds dataset size:  23473443\n",
            "eds dataset shape:  (7824481, 3)\n"
          ]
        }
      ],
      "source": [
        "print('eds dataset size: ',eds.size)\n",
        "print('eds dataset shape: ',eds.shape)"
      ]
    },
    {
      "cell_type": "markdown",
      "metadata": {
        "id": "-RGT0i1rgVaZ"
      },
      "source": [
        "** Comment(s):\n",
        "    1. The number of rows in data set is huge - no wonder it's taking more time to read the dataset than\n",
        "        it usual takes.\n",
        "    2. For the first time I am using dataset with more than 7 million rows."
      ]
    },
    {
      "cell_type": "markdown",
      "metadata": {
        "id": "G59V3DNvgVaZ"
      },
      "source": [
        "##### Lets take a look at Five-number summary:"
      ]
    },
    {
      "cell_type": "code",
      "execution_count": null,
      "metadata": {
        "id": "_xz4soBegVaZ",
        "outputId": "34dfaae6-e2d2-4f40-bbeb-5b23c56ae5ea"
      },
      "outputs": [
        {
          "data": {
            "text/html": [
              "<div>\n",
              "<style scoped>\n",
              "    .dataframe tbody tr th:only-of-type {\n",
              "        vertical-align: middle;\n",
              "    }\n",
              "\n",
              "    .dataframe tbody tr th {\n",
              "        vertical-align: top;\n",
              "    }\n",
              "\n",
              "    .dataframe thead th {\n",
              "        text-align: right;\n",
              "    }\n",
              "</style>\n",
              "<table border=\"1\" class=\"dataframe\">\n",
              "  <thead>\n",
              "    <tr style=\"text-align: right;\">\n",
              "      <th></th>\n",
              "      <th>ratings</th>\n",
              "    </tr>\n",
              "  </thead>\n",
              "  <tbody>\n",
              "    <tr>\n",
              "      <th>count</th>\n",
              "      <td>7.824481e+06</td>\n",
              "    </tr>\n",
              "    <tr>\n",
              "      <th>mean</th>\n",
              "      <td>4.012337e+00</td>\n",
              "    </tr>\n",
              "    <tr>\n",
              "      <th>std</th>\n",
              "      <td>1.380910e+00</td>\n",
              "    </tr>\n",
              "    <tr>\n",
              "      <th>min</th>\n",
              "      <td>1.000000e+00</td>\n",
              "    </tr>\n",
              "    <tr>\n",
              "      <th>25%</th>\n",
              "      <td>3.000000e+00</td>\n",
              "    </tr>\n",
              "    <tr>\n",
              "      <th>50%</th>\n",
              "      <td>5.000000e+00</td>\n",
              "    </tr>\n",
              "    <tr>\n",
              "      <th>75%</th>\n",
              "      <td>5.000000e+00</td>\n",
              "    </tr>\n",
              "    <tr>\n",
              "      <th>max</th>\n",
              "      <td>5.000000e+00</td>\n",
              "    </tr>\n",
              "  </tbody>\n",
              "</table>\n",
              "</div>"
            ],
            "text/plain": [
              "            ratings\n",
              "count  7.824481e+06\n",
              "mean   4.012337e+00\n",
              "std    1.380910e+00\n",
              "min    1.000000e+00\n",
              "25%    3.000000e+00\n",
              "50%    5.000000e+00\n",
              "75%    5.000000e+00\n",
              "max    5.000000e+00"
            ]
          },
          "execution_count": 10,
          "metadata": {},
          "output_type": "execute_result"
        }
      ],
      "source": [
        "eds.describe()"
      ]
    },
    {
      "cell_type": "markdown",
      "metadata": {
        "id": "NtNGX0c7gVaZ"
      },
      "source": [
        "** Comment(s):\n",
        "    1. The number of rows is huge - 7.8 millions.\n",
        "    2. 50th and 75th percintile are equal to max which is what we saw in histogram."
      ]
    },
    {
      "cell_type": "markdown",
      "metadata": {
        "id": "sXq_2owsgVaZ"
      },
      "source": [
        "# 2. Take a subset of the dataset to make it less sparse/ denser."
      ]
    },
    {
      "cell_type": "markdown",
      "metadata": {
        "id": "XP9RvMZGgVaa"
      },
      "source": [
        "#### Lets only keep the users only who has given more  than 50 ratings"
      ]
    },
    {
      "cell_type": "code",
      "execution_count": null,
      "metadata": {
        "id": "I46EvRA3gVaa",
        "outputId": "89d65b0c-c5e1-4b0d-cb53-d1321405187f"
      },
      "outputs": [
        {
          "data": {
            "text/html": [
              "<div>\n",
              "<style scoped>\n",
              "    .dataframe tbody tr th:only-of-type {\n",
              "        vertical-align: middle;\n",
              "    }\n",
              "\n",
              "    .dataframe tbody tr th {\n",
              "        vertical-align: top;\n",
              "    }\n",
              "\n",
              "    .dataframe thead th {\n",
              "        text-align: right;\n",
              "    }\n",
              "</style>\n",
              "<table border=\"1\" class=\"dataframe\">\n",
              "  <thead>\n",
              "    <tr style=\"text-align: right;\">\n",
              "      <th></th>\n",
              "      <th>userId</th>\n",
              "      <th>productId</th>\n",
              "      <th>ratings</th>\n",
              "      <th>users_rating_count</th>\n",
              "    </tr>\n",
              "  </thead>\n",
              "  <tbody>\n",
              "    <tr>\n",
              "      <th>0</th>\n",
              "      <td>A2CX7LUOHB2NDG</td>\n",
              "      <td>0321732944</td>\n",
              "      <td>5.0</td>\n",
              "      <td>4</td>\n",
              "    </tr>\n",
              "    <tr>\n",
              "      <th>1</th>\n",
              "      <td>A2NWSAGRHCP8N5</td>\n",
              "      <td>0439886341</td>\n",
              "      <td>1.0</td>\n",
              "      <td>1</td>\n",
              "    </tr>\n",
              "    <tr>\n",
              "      <th>2</th>\n",
              "      <td>A2WNBOD3WNDNKT</td>\n",
              "      <td>0439886341</td>\n",
              "      <td>3.0</td>\n",
              "      <td>1</td>\n",
              "    </tr>\n",
              "    <tr>\n",
              "      <th>3</th>\n",
              "      <td>A1GI0U4ZRJA8WN</td>\n",
              "      <td>0439886341</td>\n",
              "      <td>1.0</td>\n",
              "      <td>1</td>\n",
              "    </tr>\n",
              "    <tr>\n",
              "      <th>4</th>\n",
              "      <td>A1QGNMC6O1VW39</td>\n",
              "      <td>0511189877</td>\n",
              "      <td>5.0</td>\n",
              "      <td>2</td>\n",
              "    </tr>\n",
              "  </tbody>\n",
              "</table>\n",
              "</div>"
            ],
            "text/plain": [
              "           userId   productId  ratings  users_rating_count\n",
              "0  A2CX7LUOHB2NDG  0321732944      5.0                   4\n",
              "1  A2NWSAGRHCP8N5  0439886341      1.0                   1\n",
              "2  A2WNBOD3WNDNKT  0439886341      3.0                   1\n",
              "3  A1GI0U4ZRJA8WN  0439886341      1.0                   1\n",
              "4  A1QGNMC6O1VW39  0511189877      5.0                   2"
            ]
          },
          "execution_count": 11,
          "metadata": {},
          "output_type": "execute_result"
        }
      ],
      "source": [
        "# Lets get users rating count given by all 'userId' and add \"users_rating_count\" column the count:\n",
        "eds[\"users_rating_count\"] = eds.groupby(\"userId\")[\"ratings\"].transform(\"count\")\n",
        "eds.head()"
      ]
    },
    {
      "cell_type": "code",
      "execution_count": null,
      "metadata": {
        "id": "8jq6Un49gVaa",
        "outputId": "ab9b5be3-14bf-4316-88ce-8188061ce942"
      },
      "outputs": [
        {
          "name": "stdout",
          "output_type": "stream",
          "text": [
            "             userId   productId  ratings\n",
            "117   AT09WGFUM934H  0594481813      3.0\n",
            "176  A32HSNCNPRUMTR  0970407998      1.0\n",
            "177  A17HMM1M7T9PJ1  0970407998      4.0\n",
            "491  A3CLWR1UUZT6TG  0972683275      5.0\n",
            "630  A3TAS1AG6FMBQW  0972683275      5.0\n"
          ]
        },
        {
          "data": {
            "text/plain": [
              "(122171, 3)"
            ]
          },
          "execution_count": 12,
          "metadata": {},
          "output_type": "execute_result"
        }
      ],
      "source": [
        "# Drop indexes for \"users_rating_count\"<=50, and dropping \"users_rating_count\" column\n",
        "eds_m = eds.drop(eds[eds.users_rating_count <= 50].index)[['userId','productId','ratings']]\n",
        "print(eds_m.head())\n",
        "eds_m.shape"
      ]
    },
    {
      "cell_type": "markdown",
      "metadata": {
        "id": "J1W_e0gbgVaa"
      },
      "source": [
        "! Validation:\n",
        "    \n",
        "    . Just to cross check that rows with userId \"A2CX7LUOHB2NDG\"(has total 4 ratings)have actually dropped.\n",
        "    . It should be 0."
      ]
    },
    {
      "cell_type": "code",
      "execution_count": null,
      "metadata": {
        "id": "ayh0Mc9WgVaa",
        "outputId": "d4eb3a22-2567-4a5e-dcf1-58142efcbfec"
      },
      "outputs": [
        {
          "data": {
            "text/plain": [
              "0"
            ]
          },
          "execution_count": 13,
          "metadata": {},
          "output_type": "execute_result"
        }
      ],
      "source": [
        "eds_m.loc[eds_m[\"userId\"]==\"A2CX7LUOHB2NDG\"][\"ratings\"].count()"
      ]
    },
    {
      "cell_type": "markdown",
      "metadata": {
        "id": "zP7VTeQHgVab"
      },
      "source": [
        "** Comment(s):\n",
        "    1. eds_m is basically our dataframe with userIds having given more than 50 ratings."
      ]
    },
    {
      "cell_type": "markdown",
      "metadata": {
        "id": "2Z0nSd31gVab"
      },
      "source": [
        "#### Now lets keep the products only which has been given more than 50 ratings"
      ]
    },
    {
      "cell_type": "code",
      "execution_count": null,
      "metadata": {
        "id": "MhyHGOnSgVab",
        "outputId": "682778ef-c69e-439a-96d1-716f557d3401"
      },
      "outputs": [
        {
          "data": {
            "text/html": [
              "<div>\n",
              "<style scoped>\n",
              "    .dataframe tbody tr th:only-of-type {\n",
              "        vertical-align: middle;\n",
              "    }\n",
              "\n",
              "    .dataframe tbody tr th {\n",
              "        vertical-align: top;\n",
              "    }\n",
              "\n",
              "    .dataframe thead th {\n",
              "        text-align: right;\n",
              "    }\n",
              "</style>\n",
              "<table border=\"1\" class=\"dataframe\">\n",
              "  <thead>\n",
              "    <tr style=\"text-align: right;\">\n",
              "      <th></th>\n",
              "      <th>userId</th>\n",
              "      <th>productId</th>\n",
              "      <th>ratings</th>\n",
              "      <th>users_rating_count</th>\n",
              "      <th>product_rating_count</th>\n",
              "    </tr>\n",
              "  </thead>\n",
              "  <tbody>\n",
              "    <tr>\n",
              "      <th>0</th>\n",
              "      <td>A2CX7LUOHB2NDG</td>\n",
              "      <td>0321732944</td>\n",
              "      <td>5.0</td>\n",
              "      <td>4</td>\n",
              "      <td>1</td>\n",
              "    </tr>\n",
              "    <tr>\n",
              "      <th>1</th>\n",
              "      <td>A2NWSAGRHCP8N5</td>\n",
              "      <td>0439886341</td>\n",
              "      <td>1.0</td>\n",
              "      <td>1</td>\n",
              "      <td>3</td>\n",
              "    </tr>\n",
              "    <tr>\n",
              "      <th>2</th>\n",
              "      <td>A2WNBOD3WNDNKT</td>\n",
              "      <td>0439886341</td>\n",
              "      <td>3.0</td>\n",
              "      <td>1</td>\n",
              "      <td>3</td>\n",
              "    </tr>\n",
              "    <tr>\n",
              "      <th>3</th>\n",
              "      <td>A1GI0U4ZRJA8WN</td>\n",
              "      <td>0439886341</td>\n",
              "      <td>1.0</td>\n",
              "      <td>1</td>\n",
              "      <td>3</td>\n",
              "    </tr>\n",
              "    <tr>\n",
              "      <th>4</th>\n",
              "      <td>A1QGNMC6O1VW39</td>\n",
              "      <td>0511189877</td>\n",
              "      <td>5.0</td>\n",
              "      <td>2</td>\n",
              "      <td>6</td>\n",
              "    </tr>\n",
              "  </tbody>\n",
              "</table>\n",
              "</div>"
            ],
            "text/plain": [
              "           userId   productId  ratings  users_rating_count  \\\n",
              "0  A2CX7LUOHB2NDG  0321732944      5.0                   4   \n",
              "1  A2NWSAGRHCP8N5  0439886341      1.0                   1   \n",
              "2  A2WNBOD3WNDNKT  0439886341      3.0                   1   \n",
              "3  A1GI0U4ZRJA8WN  0439886341      1.0                   1   \n",
              "4  A1QGNMC6O1VW39  0511189877      5.0                   2   \n",
              "\n",
              "   product_rating_count  \n",
              "0                     1  \n",
              "1                     3  \n",
              "2                     3  \n",
              "3                     3  \n",
              "4                     6  "
            ]
          },
          "execution_count": 14,
          "metadata": {},
          "output_type": "execute_result"
        }
      ],
      "source": [
        "# Lets get product rating count given to all 'productId' and add \"product_rating_count\" column the count:\n",
        "eds[\"product_rating_count\"] = eds.groupby(\"productId\")[\"ratings\"].transform(\"count\")\n",
        "eds.head()"
      ]
    },
    {
      "cell_type": "code",
      "execution_count": null,
      "metadata": {
        "id": "zAfB8VwFgVab",
        "outputId": "d60ee1db-b8fd-456c-ced2-716a44ede0af"
      },
      "outputs": [
        {
          "name": "stdout",
          "output_type": "stream",
          "text": [
            "             userId   productId  ratings\n",
            "182  A1BKC6B7YHYTVV  0972683275      4.0\n",
            "183   AWVFSIB42LHKJ  0972683275      4.0\n",
            "184  A36MQBNADRH8YY  0972683275      5.0\n",
            "185  A3SRXMPLAEZ6DP  0972683275      4.0\n",
            "186  A20XXTXWF2TCPY  0972683275      5.0\n"
          ]
        }
      ],
      "source": [
        "eds_m2 = eds.drop(eds[eds[\"product_rating_count\"] <= 50].index)[[\"userId\", \"productId\", \"ratings\"]]\n",
        "print(eds_m2.head())"
      ]
    },
    {
      "cell_type": "markdown",
      "metadata": {
        "id": "opxBum54gVab"
      },
      "source": [
        "! Validation:\n",
        "    \n",
        "    . Just to cross check that rows with productId \"A1QGNMC6O1VW39\"(has total 6 ratings)have actually dropped.\n",
        "    . It should be 0."
      ]
    },
    {
      "cell_type": "code",
      "execution_count": null,
      "metadata": {
        "id": "7grmg-tFgVab",
        "outputId": "0360e05a-27fc-415b-8857-4b007af778ad"
      },
      "outputs": [
        {
          "data": {
            "text/plain": [
              "0"
            ]
          },
          "execution_count": 16,
          "metadata": {},
          "output_type": "execute_result"
        }
      ],
      "source": [
        "eds_m2.loc[eds_m2[\"productId\"]==\"A1QGNMC6O1VW39\"][\"ratings\"].count()"
      ]
    },
    {
      "cell_type": "code",
      "execution_count": null,
      "metadata": {
        "id": "HQOXD5IUgVac",
        "outputId": "74197f3c-973f-453f-f74f-f1be3fe577e2"
      },
      "outputs": [
        {
          "data": {
            "text/plain": [
              "(5350913, 3)"
            ]
          },
          "execution_count": 17,
          "metadata": {},
          "output_type": "execute_result"
        }
      ],
      "source": [
        "eds_m2.shape"
      ]
    },
    {
      "cell_type": "markdown",
      "metadata": {
        "id": "0Gz1TwiSgVac"
      },
      "source": [
        "** Comment(s):\n",
        "    1. eds_m2 is basically our dataframe with productIds having more than 50 ratings.\n",
        "    2. The shape of eds_m2 is huge even after removing products having 50 or less ratings."
      ]
    },
    {
      "cell_type": "markdown",
      "metadata": {
        "id": "FGN4SfC5gVac"
      },
      "source": [
        "# 3. Split the data randomly into train and test dataset.\n",
        "    (For example, split it in 70/30 ratio)"
      ]
    },
    {
      "cell_type": "markdown",
      "metadata": {
        "id": "7s-bUY03gVac"
      },
      "source": [
        "##### Splitting the Dataset created from DataFrame into train set and test set."
      ]
    },
    {
      "cell_type": "code",
      "execution_count": null,
      "metadata": {
        "id": "7CA_keyBgVad",
        "outputId": "80959758-a3c0-478d-f31f-7526f15ffb3c"
      },
      "outputs": [
        {
          "name": "stdout",
          "output_type": "stream",
          "text": [
            "<surprise.dataset.DatasetAutoFolds object at 0x105948048>\n"
          ]
        }
      ],
      "source": [
        "# A reader is needed with rating_scale param\n",
        "reader = Reader(rating_scale=(1, 5))\n",
        "\n",
        "# Converting DataFrame into dataset\n",
        "eds_data = Dataset.load_from_df(eds_m[['userId', 'productId', 'ratings']], reader)\n",
        "print(eds_data)\n",
        "\n",
        "# Splitting dataset into train set and test set\n",
        "trainSet, testSet = train_test_split(eds_data, test_size=.3)"
      ]
    },
    {
      "cell_type": "raw",
      "metadata": {
        "id": "ZkcFWFGDgVad"
      },
      "source": [
        "Note: trainSet.ur and testSet.ur can be used to print trainset and testset"
      ]
    },
    {
      "cell_type": "markdown",
      "metadata": {
        "id": "xypJclUbgVad"
      },
      "source": [
        "# 4. Build Popularity Recommender model."
      ]
    },
    {
      "cell_type": "code",
      "execution_count": null,
      "metadata": {
        "id": "BqTQnRcvgVae",
        "outputId": "69d9e0d6-cb70-4a40-9a27-482ebd26dcc7"
      },
      "outputs": [
        {
          "data": {
            "text/html": [
              "<div>\n",
              "<style scoped>\n",
              "    .dataframe tbody tr th:only-of-type {\n",
              "        vertical-align: middle;\n",
              "    }\n",
              "\n",
              "    .dataframe tbody tr th {\n",
              "        vertical-align: top;\n",
              "    }\n",
              "\n",
              "    .dataframe thead th {\n",
              "        text-align: right;\n",
              "    }\n",
              "</style>\n",
              "<table border=\"1\" class=\"dataframe\">\n",
              "  <thead>\n",
              "    <tr style=\"text-align: right;\">\n",
              "      <th></th>\n",
              "      <th>productId</th>\n",
              "      <th>score</th>\n",
              "    </tr>\n",
              "  </thead>\n",
              "  <tbody>\n",
              "    <tr>\n",
              "      <th>0</th>\n",
              "      <td>0594481813</td>\n",
              "      <td>1</td>\n",
              "    </tr>\n",
              "    <tr>\n",
              "      <th>1</th>\n",
              "      <td>0970407998</td>\n",
              "      <td>2</td>\n",
              "    </tr>\n",
              "    <tr>\n",
              "      <th>2</th>\n",
              "      <td>0972683275</td>\n",
              "      <td>3</td>\n",
              "    </tr>\n",
              "    <tr>\n",
              "      <th>3</th>\n",
              "      <td>1400501466</td>\n",
              "      <td>5</td>\n",
              "    </tr>\n",
              "    <tr>\n",
              "      <th>4</th>\n",
              "      <td>1400501520</td>\n",
              "      <td>1</td>\n",
              "    </tr>\n",
              "  </tbody>\n",
              "</table>\n",
              "</div>"
            ],
            "text/plain": [
              "    productId  score\n",
              "0  0594481813      1\n",
              "1  0970407998      2\n",
              "2  0972683275      3\n",
              "3  1400501466      5\n",
              "4  1400501520      1"
            ]
          },
          "execution_count": 19,
          "metadata": {},
          "output_type": "execute_result"
        }
      ],
      "source": [
        "# Count of user for each unique product as recommendation score \n",
        "eds_data = eds_m.groupby('productId').agg({'ratings': 'count'}).reset_index()\n",
        "eds_data.rename(columns = {'ratings': 'score'},inplace=True)\n",
        "eds_data.head()"
      ]
    },
    {
      "cell_type": "code",
      "execution_count": null,
      "metadata": {
        "id": "t1OYH3u3gVae",
        "outputId": "f3615878-167e-46e8-dc6a-1a88825dbd41"
      },
      "outputs": [
        {
          "data": {
            "text/html": [
              "<div>\n",
              "<style scoped>\n",
              "    .dataframe tbody tr th:only-of-type {\n",
              "        vertical-align: middle;\n",
              "    }\n",
              "\n",
              "    .dataframe tbody tr th {\n",
              "        vertical-align: top;\n",
              "    }\n",
              "\n",
              "    .dataframe thead th {\n",
              "        text-align: right;\n",
              "    }\n",
              "</style>\n",
              "<table border=\"1\" class=\"dataframe\">\n",
              "  <thead>\n",
              "    <tr style=\"text-align: right;\">\n",
              "      <th></th>\n",
              "      <th>productId</th>\n",
              "      <th>score</th>\n",
              "    </tr>\n",
              "  </thead>\n",
              "  <tbody>\n",
              "    <tr>\n",
              "      <th>38146</th>\n",
              "      <td>B0088CJT4U</td>\n",
              "      <td>204</td>\n",
              "    </tr>\n",
              "    <tr>\n",
              "      <th>24262</th>\n",
              "      <td>B003ES5ZUU</td>\n",
              "      <td>177</td>\n",
              "    </tr>\n",
              "    <tr>\n",
              "      <th>10820</th>\n",
              "      <td>B000N99BBC</td>\n",
              "      <td>163</td>\n",
              "    </tr>\n",
              "    <tr>\n",
              "      <th>37407</th>\n",
              "      <td>B007WTAJTO</td>\n",
              "      <td>156</td>\n",
              "    </tr>\n",
              "    <tr>\n",
              "      <th>37765</th>\n",
              "      <td>B00829TIEK</td>\n",
              "      <td>146</td>\n",
              "    </tr>\n",
              "  </tbody>\n",
              "</table>\n",
              "</div>"
            ],
            "text/plain": [
              "        productId  score\n",
              "38146  B0088CJT4U    204\n",
              "24262  B003ES5ZUU    177\n",
              "10820  B000N99BBC    163\n",
              "37407  B007WTAJTO    156\n",
              "37765  B00829TIEK    146"
            ]
          },
          "execution_count": 20,
          "metadata": {},
          "output_type": "execute_result"
        }
      ],
      "source": [
        "# Sort the products on recommendation score \n",
        "eds_data_sort = eds_data.sort_values(['score', 'productId'], ascending = [0,1])\n",
        "eds_data_sort.head()"
      ]
    },
    {
      "cell_type": "code",
      "execution_count": null,
      "metadata": {
        "id": "H-4xT3H9gVag"
      },
      "outputs": [],
      "source": [
        "# Generate a recommendation rank based upon score \n",
        "eds_data_sort['Rank'] = eds_data_sort['score'].rank(ascending=0, method='first')"
      ]
    },
    {
      "cell_type": "code",
      "execution_count": null,
      "metadata": {
        "id": "3DYiudnhgVag",
        "outputId": "f95de254-5e7f-4c68-b9de-536e89a1b9ca"
      },
      "outputs": [
        {
          "data": {
            "text/html": [
              "<div>\n",
              "<style scoped>\n",
              "    .dataframe tbody tr th:only-of-type {\n",
              "        vertical-align: middle;\n",
              "    }\n",
              "\n",
              "    .dataframe tbody tr th {\n",
              "        vertical-align: top;\n",
              "    }\n",
              "\n",
              "    .dataframe thead th {\n",
              "        text-align: right;\n",
              "    }\n",
              "</style>\n",
              "<table border=\"1\" class=\"dataframe\">\n",
              "  <thead>\n",
              "    <tr style=\"text-align: right;\">\n",
              "      <th></th>\n",
              "      <th>productId</th>\n",
              "      <th>score</th>\n",
              "      <th>Rank</th>\n",
              "    </tr>\n",
              "  </thead>\n",
              "  <tbody>\n",
              "    <tr>\n",
              "      <th>38146</th>\n",
              "      <td>B0088CJT4U</td>\n",
              "      <td>204</td>\n",
              "      <td>1.0</td>\n",
              "    </tr>\n",
              "    <tr>\n",
              "      <th>24262</th>\n",
              "      <td>B003ES5ZUU</td>\n",
              "      <td>177</td>\n",
              "      <td>2.0</td>\n",
              "    </tr>\n",
              "    <tr>\n",
              "      <th>10820</th>\n",
              "      <td>B000N99BBC</td>\n",
              "      <td>163</td>\n",
              "      <td>3.0</td>\n",
              "    </tr>\n",
              "    <tr>\n",
              "      <th>37407</th>\n",
              "      <td>B007WTAJTO</td>\n",
              "      <td>156</td>\n",
              "      <td>4.0</td>\n",
              "    </tr>\n",
              "    <tr>\n",
              "      <th>37765</th>\n",
              "      <td>B00829TIEK</td>\n",
              "      <td>146</td>\n",
              "      <td>5.0</td>\n",
              "    </tr>\n",
              "  </tbody>\n",
              "</table>\n",
              "</div>"
            ],
            "text/plain": [
              "        productId  score  Rank\n",
              "38146  B0088CJT4U    204   1.0\n",
              "24262  B003ES5ZUU    177   2.0\n",
              "10820  B000N99BBC    163   3.0\n",
              "37407  B007WTAJTO    156   4.0\n",
              "37765  B00829TIEK    146   5.0"
            ]
          },
          "execution_count": 22,
          "metadata": {},
          "output_type": "execute_result"
        }
      ],
      "source": [
        "# Get the top 5 recommendations \n",
        "popularity_recommendations = eds_data_sort.head(5) \n",
        "popularity_recommendations "
      ]
    },
    {
      "cell_type": "markdown",
      "metadata": {
        "id": "iAy6cvFzgVag"
      },
      "source": [
        "** Comment(s):\n",
        "    1. The popularity recommender model get the same recommendations for all users - old and new."
      ]
    },
    {
      "cell_type": "markdown",
      "metadata": {
        "id": "mCRFBR0LgVag"
      },
      "source": [
        "# 5. Build Collaborative Filtering model."
      ]
    },
    {
      "cell_type": "code",
      "execution_count": null,
      "metadata": {
        "id": "ISKzUYJCgVah"
      },
      "outputs": [],
      "source": [
        "# Instantiating the KNNWithMeans algorithm with user-user collaborative filtering\n",
        "algo = KNNWithMeans(k=50, sim_options={'name': 'pearson_baseline', 'user_based': True})"
      ]
    },
    {
      "cell_type": "code",
      "execution_count": null,
      "metadata": {
        "id": "quo0Fd0ygVah",
        "outputId": "622754fc-01c7-4f28-dc93-bdd333ee6327"
      },
      "outputs": [
        {
          "name": "stdout",
          "output_type": "stream",
          "text": [
            "Estimating biases using als...\n",
            "Computing the pearson_baseline similarity matrix...\n",
            "Done computing similarity matrix.\n"
          ]
        },
        {
          "data": {
            "text/plain": [
              "<surprise.prediction_algorithms.knns.KNNWithMeans at 0x104ba50f0>"
            ]
          },
          "execution_count": 24,
          "metadata": {},
          "output_type": "execute_result"
        }
      ],
      "source": [
        "algo.fit(trainSet)"
      ]
    },
    {
      "cell_type": "markdown",
      "metadata": {
        "id": "fpMdylNcgVah"
      },
      "source": [
        "# 6. Evaluate both the models.\n",
        "    (Once the model is trained on the training data, it can be used to compute the error(RMSE)\n",
        "    on predictions made on the test data.)"
      ]
    },
    {
      "cell_type": "markdown",
      "metadata": {
        "id": "EX__1OnBgVah"
      },
      "source": [
        "#### Evaluation of Popularity Recommender model"
      ]
    },
    {
      "cell_type": "markdown",
      "metadata": {
        "id": "KG3up1g0gVah"
      },
      "source": [
        "For Popularity Recommender model, the recommendation is same for all user."
      ]
    },
    {
      "cell_type": "markdown",
      "metadata": {
        "id": "MkNjNOwzgVah"
      },
      "source": [
        "#### Evaluation of Collaborative Filtering model."
      ]
    },
    {
      "cell_type": "code",
      "execution_count": null,
      "metadata": {
        "id": "S4PYjd93gVai"
      },
      "outputs": [],
      "source": [
        "# we can query for specific predicions\n",
        "uid = str(\"A2NLI1M5K2MQ5E\")  # raw user id\n",
        "iid = str(\"B007WTAJTO\")  # raw item id"
      ]
    },
    {
      "cell_type": "code",
      "execution_count": null,
      "metadata": {
        "id": "5DWpLHkngVai",
        "outputId": "52195ba1-f8f8-4d78-d08f-508cd9857645"
      },
      "outputs": [
        {
          "name": "stdout",
          "output_type": "stream",
          "text": [
            "user: A2NLI1M5K2MQ5E item: B007WTAJTO r_ui = None   est = 4.59   {'actual_k': 2, 'was_impossible': False}\n"
          ]
        }
      ],
      "source": [
        "# Lets get a prediction for specific users and items.\n",
        "pred = algo.predict(uid, iid, verbose=True)"
      ]
    },
    {
      "cell_type": "code",
      "execution_count": null,
      "metadata": {
        "id": "PvjvboWFgVai"
      },
      "outputs": [],
      "source": [
        "# Now lets run the trained model against the testset\n",
        "test_pred = algo.test(testSet)"
      ]
    },
    {
      "cell_type": "code",
      "execution_count": null,
      "metadata": {
        "id": "Pumf7fctgVai",
        "outputId": "121eda46-17e9-4e21-e3e7-307bdf1b2b6b"
      },
      "outputs": [
        {
          "data": {
            "text/plain": [
              "[Prediction(uid='A3D1TZH619NKHN', iid='B0037TRWTI', r_ui=5.0, est=4.282608695652174, details={'actual_k': 0, 'was_impossible': False}),\n",
              " Prediction(uid='ADLVFFE4VBT8', iid='B00F0DD0I6', r_ui=5.0, est=4.266459114443525, details={'actual_k': 8, 'was_impossible': False}),\n",
              " Prediction(uid='A1EH2S92FHWZRP', iid='B0073FE1F0', r_ui=4.0, est=2.72466772344836, details={'actual_k': 1, 'was_impossible': False}),\n",
              " Prediction(uid='A3QNX5KWHDV0GD', iid='B00746LVOM', r_ui=5.0, est=3.3230769230769233, details={'actual_k': 0, 'was_impossible': False}),\n",
              " Prediction(uid='AG35JCCQWDRCS', iid='B000AAZQJU', r_ui=5.0, est=4.6455696202531644, details={'actual_k': 0, 'was_impossible': False})]"
            ]
          },
          "execution_count": 28,
          "metadata": {},
          "output_type": "execute_result"
        }
      ],
      "source": [
        "test_pred[:5]"
      ]
    },
    {
      "cell_type": "code",
      "execution_count": null,
      "metadata": {
        "id": "suNKmruXgVai",
        "outputId": "d2e81e47-34f4-41d5-97a0-f77b64e626ce"
      },
      "outputs": [
        {
          "name": "stdout",
          "output_type": "stream",
          "text": [
            "User-based Model : Test Set\n",
            "RMSE: 1.0561\n"
          ]
        },
        {
          "data": {
            "text/plain": [
              "1.0561097169663567"
            ]
          },
          "execution_count": 29,
          "metadata": {},
          "output_type": "execute_result"
        }
      ],
      "source": [
        "# Computing RMSE\n",
        "print(\"User-based Model : Test Set\")\n",
        "accuracy.rmse(test_pred, verbose=True)"
      ]
    },
    {
      "cell_type": "markdown",
      "metadata": {
        "id": "0mzvjB9JgVai"
      },
      "source": [
        "** Comment(s):\n",
        "    \n",
        "    1. RMSE of value is 1.0374. "
      ]
    },
    {
      "cell_type": "markdown",
      "metadata": {
        "id": "lZWL9nYlgVaj"
      },
      "source": [
        "# 7. Get top - K ( K = 5) recommendations. \n",
        "    Since our goal is to recommend new products for each user based on his/her habits, we will \n",
        "    recommend 5 new products."
      ]
    },
    {
      "cell_type": "markdown",
      "metadata": {
        "id": "qzw_69TDgVaj"
      },
      "source": [
        "#### Getting top 5 recommendations using Popularity Recommender model:"
      ]
    },
    {
      "cell_type": "code",
      "execution_count": null,
      "metadata": {
        "id": "4a0NUfWTgVaj",
        "outputId": "72e60c27-4384-41a0-ea1a-f65f7ca55dae"
      },
      "outputs": [
        {
          "data": {
            "text/html": [
              "<div>\n",
              "<style scoped>\n",
              "    .dataframe tbody tr th:only-of-type {\n",
              "        vertical-align: middle;\n",
              "    }\n",
              "\n",
              "    .dataframe tbody tr th {\n",
              "        vertical-align: top;\n",
              "    }\n",
              "\n",
              "    .dataframe thead th {\n",
              "        text-align: right;\n",
              "    }\n",
              "</style>\n",
              "<table border=\"1\" class=\"dataframe\">\n",
              "  <thead>\n",
              "    <tr style=\"text-align: right;\">\n",
              "      <th></th>\n",
              "      <th>productId</th>\n",
              "      <th>score</th>\n",
              "      <th>Rank</th>\n",
              "    </tr>\n",
              "  </thead>\n",
              "  <tbody>\n",
              "    <tr>\n",
              "      <th>38146</th>\n",
              "      <td>B0088CJT4U</td>\n",
              "      <td>204</td>\n",
              "      <td>1.0</td>\n",
              "    </tr>\n",
              "    <tr>\n",
              "      <th>24262</th>\n",
              "      <td>B003ES5ZUU</td>\n",
              "      <td>177</td>\n",
              "      <td>2.0</td>\n",
              "    </tr>\n",
              "    <tr>\n",
              "      <th>10820</th>\n",
              "      <td>B000N99BBC</td>\n",
              "      <td>163</td>\n",
              "      <td>3.0</td>\n",
              "    </tr>\n",
              "    <tr>\n",
              "      <th>37407</th>\n",
              "      <td>B007WTAJTO</td>\n",
              "      <td>156</td>\n",
              "      <td>4.0</td>\n",
              "    </tr>\n",
              "    <tr>\n",
              "      <th>37765</th>\n",
              "      <td>B00829TIEK</td>\n",
              "      <td>146</td>\n",
              "      <td>5.0</td>\n",
              "    </tr>\n",
              "  </tbody>\n",
              "</table>\n",
              "</div>"
            ],
            "text/plain": [
              "        productId  score  Rank\n",
              "38146  B0088CJT4U    204   1.0\n",
              "24262  B003ES5ZUU    177   2.0\n",
              "10820  B000N99BBC    163   3.0\n",
              "37407  B007WTAJTO    156   4.0\n",
              "37765  B00829TIEK    146   5.0"
            ]
          },
          "execution_count": 30,
          "metadata": {},
          "output_type": "execute_result"
        }
      ],
      "source": [
        "eds_data = eds_m.groupby('productId').agg({'ratings': 'count'}).reset_index()\n",
        "eds_data.rename(columns = {'ratings': 'score'},inplace=True)\n",
        "eds_data.head()\n",
        "# Sort the products on recommendation score \n",
        "eds_data_sort = eds_data.sort_values(['score', 'productId'], ascending = [0,1])\n",
        "eds_data_sort.head()\n",
        "# Generate a recommendation rank based upon score \n",
        "eds_data_sort['Rank'] = eds_data_sort['score'].rank(ascending=0, method='first')\n",
        "# Get the top 5 recommendations \n",
        "popularity_recommendations = eds_data_sort.head(5) \n",
        "popularity_recommendations "
      ]
    },
    {
      "cell_type": "code",
      "execution_count": null,
      "metadata": {
        "id": "36VHgOC6gVaj"
      },
      "outputs": [],
      "source": [
        "def popularity_recommend(user_id):     \n",
        "    user_recommendations = popularity_recommendations \n",
        "          \n",
        "    #Add user_id column for which the recommendations are being generated \n",
        "    user_recommendations.loc['userId'] = user_id \n",
        "      \n",
        "    #Bring user_id column to the front \n",
        "    cols = user_recommendations.columns.tolist() \n",
        "    cols = cols[-1:] + cols[:-1] \n",
        "    user_recommendations = user_recommendations[cols] \n",
        "          \n",
        "    return user_recommendations"
      ]
    },
    {
      "cell_type": "code",
      "execution_count": null,
      "metadata": {
        "id": "uFVsOCEGgVaj",
        "outputId": "734b8b3b-c86e-44af-99ae-c2fe51e42bec"
      },
      "outputs": [
        {
          "data": {
            "text/html": [
              "<div>\n",
              "<style scoped>\n",
              "    .dataframe tbody tr th:only-of-type {\n",
              "        vertical-align: middle;\n",
              "    }\n",
              "\n",
              "    .dataframe tbody tr th {\n",
              "        vertical-align: top;\n",
              "    }\n",
              "\n",
              "    .dataframe thead th {\n",
              "        text-align: right;\n",
              "    }\n",
              "</style>\n",
              "<table border=\"1\" class=\"dataframe\">\n",
              "  <thead>\n",
              "    <tr style=\"text-align: right;\">\n",
              "      <th></th>\n",
              "      <th>Rank</th>\n",
              "      <th>productId</th>\n",
              "      <th>score</th>\n",
              "    </tr>\n",
              "  </thead>\n",
              "  <tbody>\n",
              "    <tr>\n",
              "      <th>38146</th>\n",
              "      <td>1.0</td>\n",
              "      <td>B0088CJT4U</td>\n",
              "      <td>204</td>\n",
              "    </tr>\n",
              "    <tr>\n",
              "      <th>24262</th>\n",
              "      <td>2.0</td>\n",
              "      <td>B003ES5ZUU</td>\n",
              "      <td>177</td>\n",
              "    </tr>\n",
              "    <tr>\n",
              "      <th>10820</th>\n",
              "      <td>3.0</td>\n",
              "      <td>B000N99BBC</td>\n",
              "      <td>163</td>\n",
              "    </tr>\n",
              "    <tr>\n",
              "      <th>37407</th>\n",
              "      <td>4.0</td>\n",
              "      <td>B007WTAJTO</td>\n",
              "      <td>156</td>\n",
              "    </tr>\n",
              "    <tr>\n",
              "      <th>37765</th>\n",
              "      <td>5.0</td>\n",
              "      <td>B00829TIEK</td>\n",
              "      <td>146</td>\n",
              "    </tr>\n",
              "    <tr>\n",
              "      <th>userId</th>\n",
              "      <td>15.0</td>\n",
              "      <td>15</td>\n",
              "      <td>15</td>\n",
              "    </tr>\n",
              "  </tbody>\n",
              "</table>\n",
              "</div>"
            ],
            "text/plain": [
              "        Rank   productId  score\n",
              "38146    1.0  B0088CJT4U    204\n",
              "24262    2.0  B003ES5ZUU    177\n",
              "10820    3.0  B000N99BBC    163\n",
              "37407    4.0  B007WTAJTO    156\n",
              "37765    5.0  B00829TIEK    146\n",
              "userId  15.0          15     15"
            ]
          },
          "execution_count": 32,
          "metadata": {},
          "output_type": "execute_result"
        }
      ],
      "source": [
        "popularity_recommend(15)"
      ]
    },
    {
      "cell_type": "markdown",
      "metadata": {
        "id": "ZmAfAyywgVaj"
      },
      "source": [
        "#### Getting top 5 recommendations using Collaborative Recommender model:"
      ]
    },
    {
      "cell_type": "code",
      "execution_count": null,
      "metadata": {
        "id": "8HhhEatpgVak"
      },
      "outputs": [],
      "source": [
        "# create a function to recommend top 5 recommendations\n",
        "def collaborative_recommend(user):     \n",
        "    df = pd.DataFrame(test_pred)\n",
        "    test_grp = df.groupby('uid')\n",
        "    test_grpDf = test_grp.get_group(user)\n",
        "    items_reco = test_grpDf.sort_values('est', ascending=False).head(5)\n",
        "          \n",
        "    return items_reco.drop(['r_ui', 'details'], axis=1)"
      ]
    },
    {
      "cell_type": "code",
      "execution_count": null,
      "metadata": {
        "id": "YfVaiV6JgVak",
        "outputId": "2ec96c6d-e6ec-477c-ae3a-9024e357ad32"
      },
      "outputs": [
        {
          "data": {
            "text/html": [
              "<div>\n",
              "<style scoped>\n",
              "    .dataframe tbody tr th:only-of-type {\n",
              "        vertical-align: middle;\n",
              "    }\n",
              "\n",
              "    .dataframe tbody tr th {\n",
              "        vertical-align: top;\n",
              "    }\n",
              "\n",
              "    .dataframe thead th {\n",
              "        text-align: right;\n",
              "    }\n",
              "</style>\n",
              "<table border=\"1\" class=\"dataframe\">\n",
              "  <thead>\n",
              "    <tr style=\"text-align: right;\">\n",
              "      <th></th>\n",
              "      <th>uid</th>\n",
              "      <th>iid</th>\n",
              "      <th>est</th>\n",
              "    </tr>\n",
              "  </thead>\n",
              "  <tbody>\n",
              "    <tr>\n",
              "      <th>18741</th>\n",
              "      <td>A2NLI1M5K2MQ5E</td>\n",
              "      <td>B004GZRE1S</td>\n",
              "      <td>4.920290</td>\n",
              "    </tr>\n",
              "    <tr>\n",
              "      <th>35177</th>\n",
              "      <td>A2NLI1M5K2MQ5E</td>\n",
              "      <td>B000DZH9H4</td>\n",
              "      <td>4.586957</td>\n",
              "    </tr>\n",
              "    <tr>\n",
              "      <th>23851</th>\n",
              "      <td>A2NLI1M5K2MQ5E</td>\n",
              "      <td>B005NX7HY6</td>\n",
              "      <td>4.586957</td>\n",
              "    </tr>\n",
              "    <tr>\n",
              "      <th>3155</th>\n",
              "      <td>A2NLI1M5K2MQ5E</td>\n",
              "      <td>B00EH5UGR6</td>\n",
              "      <td>4.586957</td>\n",
              "    </tr>\n",
              "    <tr>\n",
              "      <th>6932</th>\n",
              "      <td>A2NLI1M5K2MQ5E</td>\n",
              "      <td>B0018MPQBM</td>\n",
              "      <td>4.586957</td>\n",
              "    </tr>\n",
              "  </tbody>\n",
              "</table>\n",
              "</div>"
            ],
            "text/plain": [
              "                  uid         iid       est\n",
              "18741  A2NLI1M5K2MQ5E  B004GZRE1S  4.920290\n",
              "35177  A2NLI1M5K2MQ5E  B000DZH9H4  4.586957\n",
              "23851  A2NLI1M5K2MQ5E  B005NX7HY6  4.586957\n",
              "3155   A2NLI1M5K2MQ5E  B00EH5UGR6  4.586957\n",
              "6932   A2NLI1M5K2MQ5E  B0018MPQBM  4.586957"
            ]
          },
          "execution_count": 34,
          "metadata": {},
          "output_type": "execute_result"
        }
      ],
      "source": [
        "collaborative_recommend(\"A2NLI1M5K2MQ5E\")"
      ]
    },
    {
      "cell_type": "markdown",
      "metadata": {
        "id": "VpWZR4-YgVak"
      },
      "source": [
        "# 8. Summarise your insights."
      ]
    },
    {
      "cell_type": "markdown",
      "metadata": {
        "id": "7z8JTSbmgVak"
      },
      "source": [
        "1. Popularity Recommender model:\n",
        "\n",
        "    Theoratically we know that for Popularity Recommender model, the recommendation is same\n",
        "    for all user - old new  as it's not a personalized recommendation. Same has been demostrated below.\n",
        "    \n",
        "    The problem with popularity based recommendation system is that the personalization is not\n",
        "    available with this method. This problem is not there with collaborative filtering model."
      ]
    },
    {
      "cell_type": "code",
      "execution_count": null,
      "metadata": {
        "id": "cU74XIm0gVak",
        "outputId": "044bef92-d299-438c-a66c-3fd3589c3240"
      },
      "outputs": [
        {
          "data": {
            "text/html": [
              "<div>\n",
              "<style scoped>\n",
              "    .dataframe tbody tr th:only-of-type {\n",
              "        vertical-align: middle;\n",
              "    }\n",
              "\n",
              "    .dataframe tbody tr th {\n",
              "        vertical-align: top;\n",
              "    }\n",
              "\n",
              "    .dataframe thead th {\n",
              "        text-align: right;\n",
              "    }\n",
              "</style>\n",
              "<table border=\"1\" class=\"dataframe\">\n",
              "  <thead>\n",
              "    <tr style=\"text-align: right;\">\n",
              "      <th></th>\n",
              "      <th>Rank</th>\n",
              "      <th>productId</th>\n",
              "      <th>score</th>\n",
              "    </tr>\n",
              "  </thead>\n",
              "  <tbody>\n",
              "    <tr>\n",
              "      <th>38146</th>\n",
              "      <td>1</td>\n",
              "      <td>B0088CJT4U</td>\n",
              "      <td>204</td>\n",
              "    </tr>\n",
              "    <tr>\n",
              "      <th>24262</th>\n",
              "      <td>2</td>\n",
              "      <td>B003ES5ZUU</td>\n",
              "      <td>177</td>\n",
              "    </tr>\n",
              "    <tr>\n",
              "      <th>10820</th>\n",
              "      <td>3</td>\n",
              "      <td>B000N99BBC</td>\n",
              "      <td>163</td>\n",
              "    </tr>\n",
              "    <tr>\n",
              "      <th>37407</th>\n",
              "      <td>4</td>\n",
              "      <td>B007WTAJTO</td>\n",
              "      <td>156</td>\n",
              "    </tr>\n",
              "    <tr>\n",
              "      <th>37765</th>\n",
              "      <td>5</td>\n",
              "      <td>B00829TIEK</td>\n",
              "      <td>146</td>\n",
              "    </tr>\n",
              "    <tr>\n",
              "      <th>userId</th>\n",
              "      <td>A2NLI1M5K2MQ5E</td>\n",
              "      <td>A2NLI1M5K2MQ5E</td>\n",
              "      <td>A2NLI1M5K2MQ5E</td>\n",
              "    </tr>\n",
              "  </tbody>\n",
              "</table>\n",
              "</div>"
            ],
            "text/plain": [
              "                  Rank       productId           score\n",
              "38146                1      B0088CJT4U             204\n",
              "24262                2      B003ES5ZUU             177\n",
              "10820                3      B000N99BBC             163\n",
              "37407                4      B007WTAJTO             156\n",
              "37765                5      B00829TIEK             146\n",
              "userId  A2NLI1M5K2MQ5E  A2NLI1M5K2MQ5E  A2NLI1M5K2MQ5E"
            ]
          },
          "execution_count": 35,
          "metadata": {},
          "output_type": "execute_result"
        }
      ],
      "source": [
        "popularity_recommend(\"A2NLI1M5K2MQ5E\")"
      ]
    },
    {
      "cell_type": "code",
      "execution_count": null,
      "metadata": {
        "id": "nz9pNr29gVak",
        "outputId": "42b345aa-a790-4850-9cd5-e89d6a03bbf4"
      },
      "outputs": [
        {
          "data": {
            "text/html": [
              "<div>\n",
              "<style scoped>\n",
              "    .dataframe tbody tr th:only-of-type {\n",
              "        vertical-align: middle;\n",
              "    }\n",
              "\n",
              "    .dataframe tbody tr th {\n",
              "        vertical-align: top;\n",
              "    }\n",
              "\n",
              "    .dataframe thead th {\n",
              "        text-align: right;\n",
              "    }\n",
              "</style>\n",
              "<table border=\"1\" class=\"dataframe\">\n",
              "  <thead>\n",
              "    <tr style=\"text-align: right;\">\n",
              "      <th></th>\n",
              "      <th>Rank</th>\n",
              "      <th>productId</th>\n",
              "      <th>score</th>\n",
              "    </tr>\n",
              "  </thead>\n",
              "  <tbody>\n",
              "    <tr>\n",
              "      <th>38146</th>\n",
              "      <td>1</td>\n",
              "      <td>B0088CJT4U</td>\n",
              "      <td>204</td>\n",
              "    </tr>\n",
              "    <tr>\n",
              "      <th>24262</th>\n",
              "      <td>2</td>\n",
              "      <td>B003ES5ZUU</td>\n",
              "      <td>177</td>\n",
              "    </tr>\n",
              "    <tr>\n",
              "      <th>10820</th>\n",
              "      <td>3</td>\n",
              "      <td>B000N99BBC</td>\n",
              "      <td>163</td>\n",
              "    </tr>\n",
              "    <tr>\n",
              "      <th>37407</th>\n",
              "      <td>4</td>\n",
              "      <td>B007WTAJTO</td>\n",
              "      <td>156</td>\n",
              "    </tr>\n",
              "    <tr>\n",
              "      <th>37765</th>\n",
              "      <td>5</td>\n",
              "      <td>B00829TIEK</td>\n",
              "      <td>146</td>\n",
              "    </tr>\n",
              "    <tr>\n",
              "      <th>userId</th>\n",
              "      <td>AM0QLU79O05JR</td>\n",
              "      <td>AM0QLU79O05JR</td>\n",
              "      <td>AM0QLU79O05JR</td>\n",
              "    </tr>\n",
              "  </tbody>\n",
              "</table>\n",
              "</div>"
            ],
            "text/plain": [
              "                 Rank      productId          score\n",
              "38146               1     B0088CJT4U            204\n",
              "24262               2     B003ES5ZUU            177\n",
              "10820               3     B000N99BBC            163\n",
              "37407               4     B007WTAJTO            156\n",
              "37765               5     B00829TIEK            146\n",
              "userId  AM0QLU79O05JR  AM0QLU79O05JR  AM0QLU79O05JR"
            ]
          },
          "execution_count": 36,
          "metadata": {},
          "output_type": "execute_result"
        }
      ],
      "source": [
        "popularity_recommend(\"AM0QLU79O05JR\")"
      ]
    },
    {
      "cell_type": "markdown",
      "metadata": {
        "id": "YOsqq3s8gVak"
      },
      "source": [
        "2. Collaborative Recommender model:\n",
        "    \n",
        "    For each user, recommender systems recommend items based on how similar users liked the item.\n",
        "    Same has been demostrated below"
      ]
    },
    {
      "cell_type": "code",
      "execution_count": null,
      "metadata": {
        "id": "riO9JFh9gVal",
        "outputId": "b5983e98-6347-4650-a996-2814f525fe89"
      },
      "outputs": [
        {
          "data": {
            "text/html": [
              "<div>\n",
              "<style scoped>\n",
              "    .dataframe tbody tr th:only-of-type {\n",
              "        vertical-align: middle;\n",
              "    }\n",
              "\n",
              "    .dataframe tbody tr th {\n",
              "        vertical-align: top;\n",
              "    }\n",
              "\n",
              "    .dataframe thead th {\n",
              "        text-align: right;\n",
              "    }\n",
              "</style>\n",
              "<table border=\"1\" class=\"dataframe\">\n",
              "  <thead>\n",
              "    <tr style=\"text-align: right;\">\n",
              "      <th></th>\n",
              "      <th>uid</th>\n",
              "      <th>iid</th>\n",
              "      <th>est</th>\n",
              "    </tr>\n",
              "  </thead>\n",
              "  <tbody>\n",
              "    <tr>\n",
              "      <th>18741</th>\n",
              "      <td>A2NLI1M5K2MQ5E</td>\n",
              "      <td>B004GZRE1S</td>\n",
              "      <td>4.920290</td>\n",
              "    </tr>\n",
              "    <tr>\n",
              "      <th>35177</th>\n",
              "      <td>A2NLI1M5K2MQ5E</td>\n",
              "      <td>B000DZH9H4</td>\n",
              "      <td>4.586957</td>\n",
              "    </tr>\n",
              "    <tr>\n",
              "      <th>23851</th>\n",
              "      <td>A2NLI1M5K2MQ5E</td>\n",
              "      <td>B005NX7HY6</td>\n",
              "      <td>4.586957</td>\n",
              "    </tr>\n",
              "    <tr>\n",
              "      <th>3155</th>\n",
              "      <td>A2NLI1M5K2MQ5E</td>\n",
              "      <td>B00EH5UGR6</td>\n",
              "      <td>4.586957</td>\n",
              "    </tr>\n",
              "    <tr>\n",
              "      <th>6932</th>\n",
              "      <td>A2NLI1M5K2MQ5E</td>\n",
              "      <td>B0018MPQBM</td>\n",
              "      <td>4.586957</td>\n",
              "    </tr>\n",
              "  </tbody>\n",
              "</table>\n",
              "</div>"
            ],
            "text/plain": [
              "                  uid         iid       est\n",
              "18741  A2NLI1M5K2MQ5E  B004GZRE1S  4.920290\n",
              "35177  A2NLI1M5K2MQ5E  B000DZH9H4  4.586957\n",
              "23851  A2NLI1M5K2MQ5E  B005NX7HY6  4.586957\n",
              "3155   A2NLI1M5K2MQ5E  B00EH5UGR6  4.586957\n",
              "6932   A2NLI1M5K2MQ5E  B0018MPQBM  4.586957"
            ]
          },
          "execution_count": 37,
          "metadata": {},
          "output_type": "execute_result"
        }
      ],
      "source": [
        "collaborative_recommend(\"A2NLI1M5K2MQ5E\")"
      ]
    },
    {
      "cell_type": "code",
      "execution_count": null,
      "metadata": {
        "id": "_JxPYpkZgVal",
        "outputId": "2854fc88-a77d-4deb-b788-bb39377979b9"
      },
      "outputs": [
        {
          "data": {
            "text/html": [
              "<div>\n",
              "<style scoped>\n",
              "    .dataframe tbody tr th:only-of-type {\n",
              "        vertical-align: middle;\n",
              "    }\n",
              "\n",
              "    .dataframe tbody tr th {\n",
              "        vertical-align: top;\n",
              "    }\n",
              "\n",
              "    .dataframe thead th {\n",
              "        text-align: right;\n",
              "    }\n",
              "</style>\n",
              "<table border=\"1\" class=\"dataframe\">\n",
              "  <thead>\n",
              "    <tr style=\"text-align: right;\">\n",
              "      <th></th>\n",
              "      <th>uid</th>\n",
              "      <th>iid</th>\n",
              "      <th>est</th>\n",
              "    </tr>\n",
              "  </thead>\n",
              "  <tbody>\n",
              "    <tr>\n",
              "      <th>2361</th>\n",
              "      <td>AM0QLU79O05JR</td>\n",
              "      <td>B000B6D39I</td>\n",
              "      <td>5.000000</td>\n",
              "    </tr>\n",
              "    <tr>\n",
              "      <th>33805</th>\n",
              "      <td>AM0QLU79O05JR</td>\n",
              "      <td>B00067TTY0</td>\n",
              "      <td>4.471546</td>\n",
              "    </tr>\n",
              "    <tr>\n",
              "      <th>24780</th>\n",
              "      <td>AM0QLU79O05JR</td>\n",
              "      <td>B000U3JR8S</td>\n",
              "      <td>4.263801</td>\n",
              "    </tr>\n",
              "    <tr>\n",
              "      <th>15258</th>\n",
              "      <td>AM0QLU79O05JR</td>\n",
              "      <td>B007KPIMXK</td>\n",
              "      <td>4.263801</td>\n",
              "    </tr>\n",
              "    <tr>\n",
              "      <th>10756</th>\n",
              "      <td>AM0QLU79O05JR</td>\n",
              "      <td>B00IVEHCVW</td>\n",
              "      <td>4.263801</td>\n",
              "    </tr>\n",
              "  </tbody>\n",
              "</table>\n",
              "</div>"
            ],
            "text/plain": [
              "                 uid         iid       est\n",
              "2361   AM0QLU79O05JR  B000B6D39I  5.000000\n",
              "33805  AM0QLU79O05JR  B00067TTY0  4.471546\n",
              "24780  AM0QLU79O05JR  B000U3JR8S  4.263801\n",
              "15258  AM0QLU79O05JR  B007KPIMXK  4.263801\n",
              "10756  AM0QLU79O05JR  B00IVEHCVW  4.263801"
            ]
          },
          "execution_count": 38,
          "metadata": {},
          "output_type": "execute_result"
        }
      ],
      "source": [
        "collaborative_recommend(\"AM0QLU79O05JR\")"
      ]
    }
  ],
  "metadata": {
    "colab": {
      "collapsed_sections": [
        "oQoJg6jnDmyC",
        "LAP2LfG2DmyD",
        "eyKNgeYtDmyP",
        "hhrbp7F0DmyW",
        "F9soUMJaDmyk",
        "ErPVSQdxDmys",
        "BQDTplxHDmyz",
        "Nqoo_hufDmy4",
        "aeLRUTsKDmzC",
        "_UGNFJdaDmzE",
        "MU-u3OMrDmzN",
        "9FpSTZlPDmzT",
        "rbLdJJv_Dmzg",
        "PJaY23MDDmzq",
        "Amy0M0bODmzy",
        "8SZ3o6bMDmzz",
        "A08m5u2SDmz7",
        "XsN8MFQODmz_",
        "Fv3THRwsDm0B",
        "ldu06EbEDm0G",
        "J4vNWbAfDm0M",
        "FajXIE5sDm0V",
        "qtZdoY-MDm0b",
        "TObL8_ehDm0f",
        "NQGmyaIpDm07",
        "XL5zE1nCDm1B"
      ],
      "provenance": []
    },
    "kernelspec": {
      "display_name": "Python 3",
      "language": "python",
      "name": "python3"
    },
    "language_info": {
      "codemirror_mode": {
        "name": "ipython",
        "version": 3
      },
      "file_extension": ".py",
      "mimetype": "text/x-python",
      "name": "python",
      "nbconvert_exporter": "python",
      "pygments_lexer": "ipython3",
      "version": "3.7.3"
    }
  },
  "nbformat": 4,
  "nbformat_minor": 0
}